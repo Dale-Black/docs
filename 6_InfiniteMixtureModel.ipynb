{
 "cells": [
  {
   "cell_type": "markdown",
   "metadata": {},
   "source": [
    "# Probabilistic Modelling using the Infinite Mixture Model"
   ]
  },
  {
   "cell_type": "markdown",
   "metadata": {},
   "source": [
    "In many applications it is desirable to allow the model to adjust its complexity to the amount the data. Consider for example the task of assigning objects into clusters or groups. This task often involves the specification of the number of groups. However, often times it is not known beforehand how many groups exist. Moreover, in some applictions, e.g. modelling topics in text documents or grouping species, the number of examples per group is heavy tailed. This makes it impossible to predefine the number of groups and requiring the model to form new groups when data points from previously unseen groups are observed."
   ]
  },
  {
   "cell_type": "markdown",
   "metadata": {},
   "source": [
    "A natural approach for such applications is the use of non-parametric models. This tutorial will introduce how to use the Dirichlet process in a mixture of infinitely many Gaussians using Turing. For further information on Bayesian nonparametrics and the Dirichlet process we refer to the [introduction by Zoubin Ghahramani](http://mlg.eng.cam.ac.uk/pub/pdf/Gha12.pdf) and the book \"Fundamentals of Nonparametric Bayesian Inference\" by Subhashis Ghosal and Aad van der Vaart."
   ]
  },
  {
   "cell_type": "code",
   "execution_count": 1,
   "metadata": {},
   "outputs": [],
   "source": [
    "using Turing"
   ]
  },
  {
   "cell_type": "markdown",
   "metadata": {},
   "source": [
    "## Mixture Model"
   ]
  },
  {
   "cell_type": "markdown",
   "metadata": {},
   "source": [
    "Before introducing infinite mixture models in Turing, we will briefly review the construction of finite mixture models. Subsequently, we will define how to use the [Chinese restaurant process](https://en.wikipedia.org/wiki/Chinese_restaurant_process) construction of a Dirichlet process for non-parametric clustering."
   ]
  },
  {
   "cell_type": "markdown",
   "metadata": {},
   "source": [
    "#### Two-Component Model"
   ]
  },
  {
   "cell_type": "markdown",
   "metadata": {},
   "source": [
    "First, consider the simple case of a mixture model with two Gaussian components with fixed covariance. \n",
    "The generative process of such a model can be written as:\n",
    "\n",
    "$$\n",
    "\\begin{align}\n",
    "\\pi_1 &\\sim Beta(a, b) \\\\\n",
    "\\pi_2 &= 1-\\pi_1 \\\\\n",
    "\\mu_1 &\\sim Normal(\\mu_0, \\Sigma_0) \\\\\n",
    "\\mu_2 &\\sim Normal(\\mu_0, \\Sigma_0) \\\\\n",
    "z_i &\\sim Categorical(\\pi_1, \\pi_2) \\\\\n",
    "x_i &\\sim Normal(\\mu_{z_i}, \\Sigma)\n",
    "\\end{align}\n",
    "$$\n",
    "\n",
    "where $\\pi_1, \\pi_2$ are the mixing weights of the mixture model, i.e. $\\pi_1 + \\pi_2 = 1$, and $z_i$ is a latent assignment of the observation $x_i$ to a component (Gaussian).\n",
    "\n",
    "We can implement this model in Turing for 1D data as follows:"
   ]
  },
  {
   "cell_type": "code",
   "execution_count": 2,
   "metadata": {},
   "outputs": [
    {
     "data": {
      "text/plain": [
       "DynamicPPL.ModelGen{var\"###generator#282\",(:x,),(),Tuple{}}(##generator#282, NamedTuple())"
      ]
     },
     "execution_count": 2,
     "metadata": {},
     "output_type": "execute_result"
    }
   ],
   "source": [
    "@model two_model(x) = begin\n",
    "    \n",
    "    # Hyper-parameters\n",
    "    μ0 = 0.0\n",
    "    σ0 = 1.0\n",
    "    \n",
    "    # Draw weights.\n",
    "    π1 ~ Beta(1,1)\n",
    "    π2 = 1-π1\n",
    "    \n",
    "    # Draw locations of the components.\n",
    "    μ1 ~ Normal(μ0, σ0)\n",
    "    μ2 ~ Normal(μ0, σ0)\n",
    "    \n",
    "    # Draw latent assignment.\n",
    "    z ~ Categorical([π1, π2])\n",
    "    \n",
    "    # Draw observation from selected component.\n",
    "    if z == 1\n",
    "        x ~ Normal(μ1, 1.0)\n",
    "    else\n",
    "        x ~ Normal(μ2, 1.0)\n",
    "    end\n",
    "end"
   ]
  },
  {
   "cell_type": "markdown",
   "metadata": {},
   "source": [
    "#### Finite Mixture Model"
   ]
  },
  {
   "cell_type": "markdown",
   "metadata": {},
   "source": [
    "If we have more than two components, this model can elegantly be extend using a Dirichlet distribution as prior for the mixing weights $\\pi_1, \\dots, \\pi_K$. Note that the Dirichlet distribution is the multivariate generalization of the beta distribution. The resulting model can be written as:\n",
    "\n",
    "$$\n",
    "\\begin{align}\n",
    "(\\pi_1, \\dots, \\pi_K) &\\sim Dirichlet(K, \\alpha) \\\\\n",
    "\\mu_k &\\sim Normal(\\mu_0, \\Sigma_0), \\;\\; \\forall k \\\\\n",
    "z &\\sim Categorical(\\pi_1, \\dots, \\pi_K) \\\\\n",
    "x &\\sim Normal(\\mu_z, \\Sigma) \n",
    "\\end{align}\n",
    "$$\n",
    "\n",
    "which resembles the model in the [Gaussian mixture model tutorial](https://turing.ml/dev/tutorials/1-gaussianmixturemodel/) with a slightly different notation."
   ]
  },
  {
   "cell_type": "markdown",
   "metadata": {},
   "source": [
    "## Infinite Mixture Model"
   ]
  },
  {
   "cell_type": "markdown",
   "metadata": {},
   "source": [
    "The question now arises, is there a generalization of a Dirichlet distribution for which the dimensionality $K$ is infinite, i.e. $K = \\infty$?"
   ]
  },
  {
   "cell_type": "markdown",
   "metadata": {},
   "source": [
    "But first, to implement an infinite Gaussian mixture model in Turing, we first need to load the `Turing.RandomMeasures` module. `RandomMeasures` contains a variety of tools useful in nonparametrics."
   ]
  },
  {
   "cell_type": "code",
   "execution_count": 3,
   "metadata": {},
   "outputs": [],
   "source": [
    "using Turing.RandomMeasures"
   ]
  },
  {
   "cell_type": "markdown",
   "metadata": {},
   "source": [
    "We now will utilize the fact that one can integrate out the mixing weights in a Gaussian mixture model allowing us to arrive at the Chinese restaurant process construction. See Carl E. Rasmussen: [The Infinite Gaussian Mixture Model](https://www.seas.harvard.edu/courses/cs281/papers/rasmussen-1999a.pdf), NIPS (2000) for details.\n",
    "\n",
    "In fact, if the mixing weights are integrated out, the conditional prior for the latent variable $z$ is given by:\n",
    "\n",
    "$$ \n",
    "p(z_i = k \\mid z_{\\not i}, \\alpha) = \\frac{n_k + \\alpha/K}{N - 1 + \\alpha}\n",
    "$$\n",
    "\n",
    "where $z_{\\not i}$ are the latent assignments of all observations except observation $i$. Note that we use $n_k$ to denote the number of observations at component $k$ excluding observation $i$. The parameter $\\alpha$ is the concentration parameter of the Dirichlet distribution used as prior over the mixing weights."
   ]
  },
  {
   "cell_type": "markdown",
   "metadata": {},
   "source": [
    "#### Chinese Restaurant Process"
   ]
  },
  {
   "cell_type": "markdown",
   "metadata": {},
   "source": [
    "To obtain the Chinese restaurant process construction, we can now derive the conditional prior if $K \\rightarrow \\infty$.\n",
    "\n",
    "For $n_k > 0$ we obtain:\n",
    "\n",
    "$$\n",
    "p(z_i = k \\mid z_{\\not i}, \\alpha) = \\frac{n_k}{N - 1 + \\alpha}\n",
    "$$\n",
    "\n",
    "and for all infinitely many clusters that are empty (combined) we get:\n",
    "\n",
    "$$\n",
    "p(z_i = k \\mid z_{\\not i}, \\alpha) = \\frac{\\alpha}{N - 1 + \\alpha}\n",
    "$$\n"
   ]
  },
  {
   "cell_type": "markdown",
   "metadata": {},
   "source": [
    "Those equations show that the conditional prior for component assignments is proportional to the number of such observations, meaning that the Chinese restaurant process has a rich get richer property."
   ]
  },
  {
   "cell_type": "markdown",
   "metadata": {},
   "source": [
    "To get a better understanding of this property, we can plot the cluster choosen by for each new observation drawn from the conditional prior."
   ]
  },
  {
   "cell_type": "code",
   "execution_count": 4,
   "metadata": {},
   "outputs": [],
   "source": [
    "# Concentration parameter.\n",
    "α = 10.0\n",
    "\n",
    "# Random measure, e.g. Dirichlet process.\n",
    "rpm = DirichletProcess(α)\n",
    "\n",
    "# Cluster assignments for each observation.\n",
    "z = Vector{Int}()\n",
    "\n",
    "# Maximum number of observations we observe.\n",
    "Nmax = 500\n",
    "\n",
    "for i in 1:Nmax\n",
    "    # Number of observations per cluster.\n",
    "    K = isempty(z) ? 0 : maximum(z)\n",
    "    nk = Vector{Int}(map(k -> sum(z .== k), 1:K))\n",
    "    \n",
    "    # Draw new assignment.\n",
    "    push!(z, rand(ChineseRestaurantProcess(rpm, nk)))\n",
    "end"
   ]
  },
  {
   "cell_type": "code",
   "execution_count": 5,
   "metadata": {},
   "outputs": [
    {
     "name": "stderr",
     "output_type": "stream",
     "text": [
      "┌ Info: Saved animation to \n",
      "│   fn = /home/cameron/code/TuringTutorials/tmp.gif\n",
      "└ @ Plots /home/cameron/.julia/packages/Plots/Xnzc7/src/animation.jl:104\n"
     ]
    }
   ],
   "source": [
    "using Plots\n",
    "\n",
    "# Plot the cluster assignments over time \n",
    "@gif for i in 1:Nmax\n",
    "    scatter(collect(1:i), z[1:i], markersize = 2, xlabel = \"observation (i)\", ylabel = \"cluster (k)\", legend = false)\n",
    "end;"
   ]
  },
  {
   "cell_type": "markdown",
   "metadata": {},
   "source": [
    "![tmp](https://user-images.githubusercontent.com/422990/55284032-90cfa980-5323-11e9-8a99-f9315db170cb.gif)"
   ]
  },
  {
   "cell_type": "markdown",
   "metadata": {},
   "source": [
    "Further, we can see that the number of clusters is logarithmic in the number of observations and data points. This is a side-effect of the \"rich-get-richer\" phenomenon, i.e. we expect large clusters and thus the number of clusters has to be smaller than the number of observations.\n",
    "\n",
    "$$\n",
    "E[K \\mid N] \\approx \\alpha \\cdot log \\big(1 + \\frac{N}{\\alpha}\\big)\n",
    "$$\n",
    "\n",
    "We can see from the equation that the concentration parameter $\\alpha$ allows us to control the number of clusters formed *a priori*."
   ]
  },
  {
   "cell_type": "markdown",
   "metadata": {},
   "source": [
    "In Turing we can implement an infinite Gaussian mixture model using the Chinese restaurant process construction of a Dirichlet process as follows:"
   ]
  },
  {
   "cell_type": "code",
   "execution_count": 6,
   "metadata": {},
   "outputs": [
    {
     "data": {
      "text/plain": [
       "DynamicPPL.ModelGen{var\"###generator#800\",(:x,),(),Tuple{}}(##generator#800, NamedTuple())"
      ]
     },
     "execution_count": 6,
     "metadata": {},
     "output_type": "execute_result"
    }
   ],
   "source": [
    "@model infiniteGMM(x) = begin\n",
    "    \n",
    "    # Hyper-parameters, i.e. concentration parameter and parameters of H.\n",
    "    α = 1.0\n",
    "    μ0 = 0.0\n",
    "    σ0 = 1.0\n",
    "    \n",
    "    # Define random measure, e.g. Dirichlet process.\n",
    "    rpm = DirichletProcess(α)\n",
    "    \n",
    "    # Define the base distribution, i.e. expected value of the Dirichlet process.\n",
    "    H = Normal(μ0, σ0)\n",
    "    \n",
    "    # Latent assignment.\n",
    "    z = tzeros(Int, length(x))\n",
    "        \n",
    "    # Locations of the infinitely many clusters.\n",
    "    μ = tzeros(Float64, 0)\n",
    "    \n",
    "    for i in 1:length(x)\n",
    "        \n",
    "        # Number of clusters.\n",
    "        K = maximum(z)\n",
    "        nk = Vector{Int}(map(k -> sum(z .== k), 1:K))\n",
    "\n",
    "        # Draw the latent assignment.\n",
    "        z[i] ~ ChineseRestaurantProcess(rpm, nk)\n",
    "        \n",
    "        # Create a new cluster?\n",
    "        if z[i] > K\n",
    "            push!(μ, 0.0)\n",
    "\n",
    "            # Draw location of new cluster.\n",
    "            μ[z[i]] ~ H\n",
    "        end\n",
    "                \n",
    "        # Draw observation.\n",
    "        x[i] ~ Normal(μ[z[i]], 1.0)\n",
    "    end\n",
    "end"
   ]
  },
  {
   "cell_type": "markdown",
   "metadata": {},
   "source": [
    "We can now use Turing to infer the assignments of some data points. First, we will create some random data that comes from three clusters, with means of 0, -5, and 10."
   ]
  },
  {
   "cell_type": "code",
   "execution_count": 7,
   "metadata": {},
   "outputs": [],
   "source": [
    "using Plots, Random\n",
    "\n",
    "# Generate some test data.\n",
    "Random.seed!(1)\n",
    "data = vcat(randn(10), randn(10) .- 5, randn(10) .+ 10)\n",
    "data .-= mean(data)\n",
    "data /= std(data);"
   ]
  },
  {
   "cell_type": "markdown",
   "metadata": {},
   "source": [
    "Next, we'll sample from our posterior using SMC."
   ]
  },
  {
   "cell_type": "code",
   "execution_count": 8,
   "metadata": {},
   "outputs": [
    {
     "name": "stderr",
     "output_type": "stream",
     "text": [
      "\u001b[32mSampling: 100%|█████████████████████████████████████████| Time: 0:00:00\u001b[39m\n"
     ]
    }
   ],
   "source": [
    "# MCMC sampling\n",
    "Random.seed!(2)\n",
    "iterations = 1000\n",
    "model_fun = infiniteGMM(data);\n",
    "chain = sample(model_fun, SMC(), iterations);"
   ]
  },
  {
   "cell_type": "markdown",
   "metadata": {},
   "source": [
    "Finally, we can plot the number of clusters in each sample."
   ]
  },
  {
   "cell_type": "code",
   "execution_count": 9,
   "metadata": {},
   "outputs": [
    {
     "data": {
      "image/svg+xml": [
       "<?xml version=\"1.0\" encoding=\"utf-8\"?>\n",
       "<svg xmlns=\"http://www.w3.org/2000/svg\" xmlns:xlink=\"http://www.w3.org/1999/xlink\" width=\"600\" height=\"400\" viewBox=\"0 0 2400 1600\">\n",
       "<defs>\n",
       "  <clipPath id=\"clip280\">\n",
       "    <rect x=\"0\" y=\"0\" width=\"2400\" height=\"1600\"/>\n",
       "  </clipPath>\n",
       "</defs>\n",
       "<path clip-path=\"url(#clip280)\" d=\"\n",
       "M0 1600 L2400 1600 L2400 0 L0 0  Z\n",
       "  \" fill=\"#ffffff\" fill-rule=\"evenodd\" fill-opacity=\"1\"/>\n",
       "<defs>\n",
       "  <clipPath id=\"clip281\">\n",
       "    <rect x=\"480\" y=\"0\" width=\"1681\" height=\"1600\"/>\n",
       "  </clipPath>\n",
       "</defs>\n",
       "<path clip-path=\"url(#clip280)\" d=\"\n",
       "M175.445 1423.18 L2352.76 1423.18 L2352.76 47.2441 L175.445 47.2441  Z\n",
       "  \" fill=\"#ffffff\" fill-rule=\"evenodd\" fill-opacity=\"1\"/>\n",
       "<defs>\n",
       "  <clipPath id=\"clip282\">\n",
       "    <rect x=\"175\" y=\"47\" width=\"2178\" height=\"1377\"/>\n",
       "  </clipPath>\n",
       "</defs>\n",
       "<polyline clip-path=\"url(#clip282)\" style=\"stroke:#000000; stroke-width:2; stroke-opacity:0.1; fill:none\" points=\"\n",
       "  235.011,1423.18 235.011,47.2441 \n",
       "  \"/>\n",
       "<polyline clip-path=\"url(#clip282)\" style=\"stroke:#000000; stroke-width:2; stroke-opacity:0.1; fill:none\" points=\"\n",
       "  749.042,1423.18 749.042,47.2441 \n",
       "  \"/>\n",
       "<polyline clip-path=\"url(#clip282)\" style=\"stroke:#000000; stroke-width:2; stroke-opacity:0.1; fill:none\" points=\"\n",
       "  1263.07,1423.18 1263.07,47.2441 \n",
       "  \"/>\n",
       "<polyline clip-path=\"url(#clip282)\" style=\"stroke:#000000; stroke-width:2; stroke-opacity:0.1; fill:none\" points=\"\n",
       "  1777.1,1423.18 1777.1,47.2441 \n",
       "  \"/>\n",
       "<polyline clip-path=\"url(#clip282)\" style=\"stroke:#000000; stroke-width:2; stroke-opacity:0.1; fill:none\" points=\"\n",
       "  2291.13,1423.18 2291.13,47.2441 \n",
       "  \"/>\n",
       "<polyline clip-path=\"url(#clip282)\" style=\"stroke:#000000; stroke-width:2; stroke-opacity:0.1; fill:none\" points=\"\n",
       "  175.445,1198.8 2352.76,1198.8 \n",
       "  \"/>\n",
       "<polyline clip-path=\"url(#clip282)\" style=\"stroke:#000000; stroke-width:2; stroke-opacity:0.1; fill:none\" points=\"\n",
       "  175.445,827.93 2352.76,827.93 \n",
       "  \"/>\n",
       "<polyline clip-path=\"url(#clip282)\" style=\"stroke:#000000; stroke-width:2; stroke-opacity:0.1; fill:none\" points=\"\n",
       "  175.445,457.058 2352.76,457.058 \n",
       "  \"/>\n",
       "<polyline clip-path=\"url(#clip282)\" style=\"stroke:#000000; stroke-width:2; stroke-opacity:0.1; fill:none\" points=\"\n",
       "  175.445,86.1857 2352.76,86.1857 \n",
       "  \"/>\n",
       "<polyline clip-path=\"url(#clip280)\" style=\"stroke:#000000; stroke-width:4; stroke-opacity:1; fill:none\" points=\"\n",
       "  175.445,1423.18 2352.76,1423.18 \n",
       "  \"/>\n",
       "<polyline clip-path=\"url(#clip280)\" style=\"stroke:#000000; stroke-width:4; stroke-opacity:1; fill:none\" points=\"\n",
       "  175.445,1423.18 175.445,47.2441 \n",
       "  \"/>\n",
       "<polyline clip-path=\"url(#clip280)\" style=\"stroke:#000000; stroke-width:4; stroke-opacity:1; fill:none\" points=\"\n",
       "  235.011,1423.18 235.011,1406.67 \n",
       "  \"/>\n",
       "<polyline clip-path=\"url(#clip280)\" style=\"stroke:#000000; stroke-width:4; stroke-opacity:1; fill:none\" points=\"\n",
       "  749.042,1423.18 749.042,1406.67 \n",
       "  \"/>\n",
       "<polyline clip-path=\"url(#clip280)\" style=\"stroke:#000000; stroke-width:4; stroke-opacity:1; fill:none\" points=\"\n",
       "  1263.07,1423.18 1263.07,1406.67 \n",
       "  \"/>\n",
       "<polyline clip-path=\"url(#clip280)\" style=\"stroke:#000000; stroke-width:4; stroke-opacity:1; fill:none\" points=\"\n",
       "  1777.1,1423.18 1777.1,1406.67 \n",
       "  \"/>\n",
       "<polyline clip-path=\"url(#clip280)\" style=\"stroke:#000000; stroke-width:4; stroke-opacity:1; fill:none\" points=\"\n",
       "  2291.13,1423.18 2291.13,1406.67 \n",
       "  \"/>\n",
       "<polyline clip-path=\"url(#clip280)\" style=\"stroke:#000000; stroke-width:4; stroke-opacity:1; fill:none\" points=\"\n",
       "  175.445,1198.8 201.573,1198.8 \n",
       "  \"/>\n",
       "<polyline clip-path=\"url(#clip280)\" style=\"stroke:#000000; stroke-width:4; stroke-opacity:1; fill:none\" points=\"\n",
       "  175.445,827.93 201.573,827.93 \n",
       "  \"/>\n",
       "<polyline clip-path=\"url(#clip280)\" style=\"stroke:#000000; stroke-width:4; stroke-opacity:1; fill:none\" points=\"\n",
       "  175.445,457.058 201.573,457.058 \n",
       "  \"/>\n",
       "<polyline clip-path=\"url(#clip280)\" style=\"stroke:#000000; stroke-width:4; stroke-opacity:1; fill:none\" points=\"\n",
       "  175.445,86.1857 201.573,86.1857 \n",
       "  \"/>\n",
       "<path clip-path=\"url(#clip280)\" d=\"M 0 0 M235.011 1445.17 Q231.4 1445.17 229.571 1448.74 Q227.766 1452.28 227.766 1459.41 Q227.766 1466.51 229.571 1470.08 Q231.4 1473.62 235.011 1473.62 Q238.645 1473.62 240.451 1470.08 Q242.28 1466.51 242.28 1459.41 Q242.28 1452.28 240.451 1448.74 Q238.645 1445.17 235.011 1445.17 M235.011 1441.47 Q240.821 1441.47 243.877 1446.07 Q246.955 1450.66 246.955 1459.41 Q246.955 1468.13 243.877 1472.74 Q240.821 1477.32 235.011 1477.32 Q229.201 1477.32 226.122 1472.74 Q223.067 1468.13 223.067 1459.41 Q223.067 1450.66 226.122 1446.07 Q229.201 1441.47 235.011 1441.47 Z\" fill=\"#000000\" fill-rule=\"evenodd\" fill-opacity=\"1\" /><path clip-path=\"url(#clip280)\" d=\"M 0 0 M717.179 1472.72 L733.498 1472.72 L733.498 1476.65 L711.554 1476.65 L711.554 1472.72 Q714.216 1469.96 718.799 1465.33 Q723.405 1460.68 724.586 1459.34 Q726.831 1456.81 727.711 1455.08 Q728.614 1453.32 728.614 1451.63 Q728.614 1448.87 726.669 1447.14 Q724.748 1445.4 721.646 1445.4 Q719.447 1445.4 716.993 1446.17 Q714.563 1446.93 711.785 1448.48 L711.785 1443.76 Q714.609 1442.62 717.063 1442.05 Q719.516 1441.47 721.554 1441.47 Q726.924 1441.47 730.118 1444.15 Q733.313 1446.84 733.313 1451.33 Q733.313 1453.46 732.503 1455.38 Q731.715 1457.28 729.609 1459.87 Q729.03 1460.54 725.928 1463.76 Q722.827 1466.95 717.179 1472.72 Z\" fill=\"#000000\" fill-rule=\"evenodd\" fill-opacity=\"1\" /><path clip-path=\"url(#clip280)\" d=\"M 0 0 M738.614 1442.09 L756.97 1442.09 L756.97 1446.03 L742.896 1446.03 L742.896 1454.5 Q743.915 1454.15 744.933 1453.99 Q745.952 1453.8 746.97 1453.8 Q752.757 1453.8 756.137 1456.98 Q759.516 1460.15 759.516 1465.56 Q759.516 1471.14 756.044 1474.24 Q752.572 1477.32 746.252 1477.32 Q744.077 1477.32 741.808 1476.95 Q739.563 1476.58 737.155 1475.84 L737.155 1471.14 Q739.239 1472.28 741.461 1472.83 Q743.683 1473.39 746.16 1473.39 Q750.164 1473.39 752.502 1471.28 Q754.84 1469.18 754.84 1465.56 Q754.84 1461.95 752.502 1459.85 Q750.164 1457.74 746.16 1457.74 Q744.285 1457.74 742.41 1458.16 Q740.558 1458.57 738.614 1459.45 L738.614 1442.09 Z\" fill=\"#000000\" fill-rule=\"evenodd\" fill-opacity=\"1\" /><path clip-path=\"url(#clip280)\" d=\"M 0 0 M774.586 1445.17 Q770.975 1445.17 769.146 1448.74 Q767.34 1452.28 767.34 1459.41 Q767.34 1466.51 769.146 1470.08 Q770.975 1473.62 774.586 1473.62 Q778.22 1473.62 780.025 1470.08 Q781.854 1466.51 781.854 1459.41 Q781.854 1452.28 780.025 1448.74 Q778.22 1445.17 774.586 1445.17 M774.586 1441.47 Q780.396 1441.47 783.451 1446.07 Q786.53 1450.66 786.53 1459.41 Q786.53 1468.13 783.451 1472.74 Q780.396 1477.32 774.586 1477.32 Q768.775 1477.32 765.697 1472.74 Q762.641 1468.13 762.641 1459.41 Q762.641 1450.66 765.697 1446.07 Q768.775 1441.47 774.586 1441.47 Z\" fill=\"#000000\" fill-rule=\"evenodd\" fill-opacity=\"1\" /><path clip-path=\"url(#clip280)\" d=\"M 0 0 M1226.34 1442.09 L1244.69 1442.09 L1244.69 1446.03 L1230.62 1446.03 L1230.62 1454.5 Q1231.64 1454.15 1232.66 1453.99 Q1233.67 1453.8 1234.69 1453.8 Q1240.48 1453.8 1243.86 1456.98 Q1247.24 1460.15 1247.24 1465.56 Q1247.24 1471.14 1243.77 1474.24 Q1240.29 1477.32 1233.98 1477.32 Q1231.8 1477.32 1229.53 1476.95 Q1227.29 1476.58 1224.88 1475.84 L1224.88 1471.14 Q1226.96 1472.28 1229.18 1472.83 Q1231.41 1473.39 1233.88 1473.39 Q1237.89 1473.39 1240.23 1471.28 Q1242.56 1469.18 1242.56 1465.56 Q1242.56 1461.95 1240.23 1459.85 Q1237.89 1457.74 1233.88 1457.74 Q1232.01 1457.74 1230.13 1458.16 Q1228.28 1458.57 1226.34 1459.45 L1226.34 1442.09 Z\" fill=\"#000000\" fill-rule=\"evenodd\" fill-opacity=\"1\" /><path clip-path=\"url(#clip280)\" d=\"M 0 0 M1262.31 1445.17 Q1258.7 1445.17 1256.87 1448.74 Q1255.06 1452.28 1255.06 1459.41 Q1255.06 1466.51 1256.87 1470.08 Q1258.7 1473.62 1262.31 1473.62 Q1265.94 1473.62 1267.75 1470.08 Q1269.58 1466.51 1269.58 1459.41 Q1269.58 1452.28 1267.75 1448.74 Q1265.94 1445.17 1262.31 1445.17 M1262.31 1441.47 Q1268.12 1441.47 1271.17 1446.07 Q1274.25 1450.66 1274.25 1459.41 Q1274.25 1468.13 1271.17 1472.74 Q1268.12 1477.32 1262.31 1477.32 Q1256.5 1477.32 1253.42 1472.74 Q1250.36 1468.13 1250.36 1459.41 Q1250.36 1450.66 1253.42 1446.07 Q1256.5 1441.47 1262.31 1441.47 Z\" fill=\"#000000\" fill-rule=\"evenodd\" fill-opacity=\"1\" /><path clip-path=\"url(#clip280)\" d=\"M 0 0 M1289.32 1445.17 Q1285.71 1445.17 1283.88 1448.74 Q1282.08 1452.28 1282.08 1459.41 Q1282.08 1466.51 1283.88 1470.08 Q1285.71 1473.62 1289.32 1473.62 Q1292.96 1473.62 1294.76 1470.08 Q1296.59 1466.51 1296.59 1459.41 Q1296.59 1452.28 1294.76 1448.74 Q1292.96 1445.17 1289.32 1445.17 M1289.32 1441.47 Q1295.13 1441.47 1298.19 1446.07 Q1301.27 1450.66 1301.27 1459.41 Q1301.27 1468.13 1298.19 1472.74 Q1295.13 1477.32 1289.32 1477.32 Q1283.51 1477.32 1280.43 1472.74 Q1277.38 1468.13 1277.38 1459.41 Q1277.38 1450.66 1280.43 1446.07 Q1283.51 1441.47 1289.32 1441.47 Z\" fill=\"#000000\" fill-rule=\"evenodd\" fill-opacity=\"1\" /><path clip-path=\"url(#clip280)\" d=\"M 0 0 M1739.48 1442.09 L1761.7 1442.09 L1761.7 1444.08 L1749.15 1476.65 L1744.27 1476.65 L1756.07 1446.03 L1739.48 1446.03 L1739.48 1442.09 Z\" fill=\"#000000\" fill-rule=\"evenodd\" fill-opacity=\"1\" /><path clip-path=\"url(#clip280)\" d=\"M 0 0 M1766.81 1442.09 L1785.17 1442.09 L1785.17 1446.03 L1771.1 1446.03 L1771.1 1454.5 Q1772.11 1454.15 1773.13 1453.99 Q1774.15 1453.8 1775.17 1453.8 Q1780.96 1453.8 1784.34 1456.98 Q1787.72 1460.15 1787.72 1465.56 Q1787.72 1471.14 1784.24 1474.24 Q1780.77 1477.32 1774.45 1477.32 Q1772.28 1477.32 1770.01 1476.95 Q1767.76 1476.58 1765.36 1475.84 L1765.36 1471.14 Q1767.44 1472.28 1769.66 1472.83 Q1771.88 1473.39 1774.36 1473.39 Q1778.36 1473.39 1780.7 1471.28 Q1783.04 1469.18 1783.04 1465.56 Q1783.04 1461.95 1780.7 1459.85 Q1778.36 1457.74 1774.36 1457.74 Q1772.49 1457.74 1770.61 1458.16 Q1768.76 1458.57 1766.81 1459.45 L1766.81 1442.09 Z\" fill=\"#000000\" fill-rule=\"evenodd\" fill-opacity=\"1\" /><path clip-path=\"url(#clip280)\" d=\"M 0 0 M1802.79 1445.17 Q1799.17 1445.17 1797.35 1448.74 Q1795.54 1452.28 1795.54 1459.41 Q1795.54 1466.51 1797.35 1470.08 Q1799.17 1473.62 1802.79 1473.62 Q1806.42 1473.62 1808.23 1470.08 Q1810.05 1466.51 1810.05 1459.41 Q1810.05 1452.28 1808.23 1448.74 Q1806.42 1445.17 1802.79 1445.17 M1802.79 1441.47 Q1808.6 1441.47 1811.65 1446.07 Q1814.73 1450.66 1814.73 1459.41 Q1814.73 1468.13 1811.65 1472.74 Q1808.6 1477.32 1802.79 1477.32 Q1796.98 1477.32 1793.9 1472.74 Q1790.84 1468.13 1790.84 1459.41 Q1790.84 1450.66 1793.9 1446.07 Q1796.98 1441.47 1802.79 1441.47 Z\" fill=\"#000000\" fill-rule=\"evenodd\" fill-opacity=\"1\" /><path clip-path=\"url(#clip280)\" d=\"M 0 0 M2241 1472.72 L2248.63 1472.72 L2248.63 1446.35 L2240.32 1448.02 L2240.32 1443.76 L2248.59 1442.09 L2253.26 1442.09 L2253.26 1472.72 L2260.9 1472.72 L2260.9 1476.65 L2241 1476.65 L2241 1472.72 Z\" fill=\"#000000\" fill-rule=\"evenodd\" fill-opacity=\"1\" /><path clip-path=\"url(#clip280)\" d=\"M 0 0 M2275.97 1445.17 Q2272.36 1445.17 2270.53 1448.74 Q2268.73 1452.28 2268.73 1459.41 Q2268.73 1466.51 2270.53 1470.08 Q2272.36 1473.62 2275.97 1473.62 Q2279.61 1473.62 2281.41 1470.08 Q2283.24 1466.51 2283.24 1459.41 Q2283.24 1452.28 2281.41 1448.74 Q2279.61 1445.17 2275.97 1445.17 M2275.97 1441.47 Q2281.78 1441.47 2284.84 1446.07 Q2287.92 1450.66 2287.92 1459.41 Q2287.92 1468.13 2284.84 1472.74 Q2281.78 1477.32 2275.97 1477.32 Q2270.16 1477.32 2267.08 1472.74 Q2264.03 1468.13 2264.03 1459.41 Q2264.03 1450.66 2267.08 1446.07 Q2270.16 1441.47 2275.97 1441.47 Z\" fill=\"#000000\" fill-rule=\"evenodd\" fill-opacity=\"1\" /><path clip-path=\"url(#clip280)\" d=\"M 0 0 M2302.99 1445.17 Q2299.37 1445.17 2297.55 1448.74 Q2295.74 1452.28 2295.74 1459.41 Q2295.74 1466.51 2297.55 1470.08 Q2299.37 1473.62 2302.99 1473.62 Q2306.62 1473.62 2308.43 1470.08 Q2310.25 1466.51 2310.25 1459.41 Q2310.25 1452.28 2308.43 1448.74 Q2306.62 1445.17 2302.99 1445.17 M2302.99 1441.47 Q2308.8 1441.47 2311.85 1446.07 Q2314.93 1450.66 2314.93 1459.41 Q2314.93 1468.13 2311.85 1472.74 Q2308.8 1477.32 2302.99 1477.32 Q2297.18 1477.32 2294.1 1472.74 Q2291.04 1468.13 2291.04 1459.41 Q2291.04 1450.66 2294.1 1446.07 Q2297.18 1441.47 2302.99 1441.47 Z\" fill=\"#000000\" fill-rule=\"evenodd\" fill-opacity=\"1\" /><path clip-path=\"url(#clip280)\" d=\"M 0 0 M2330 1445.17 Q2326.39 1445.17 2324.56 1448.74 Q2322.75 1452.28 2322.75 1459.41 Q2322.75 1466.51 2324.56 1470.08 Q2326.39 1473.62 2330 1473.62 Q2333.63 1473.62 2335.44 1470.08 Q2337.27 1466.51 2337.27 1459.41 Q2337.27 1452.28 2335.44 1448.74 Q2333.63 1445.17 2330 1445.17 M2330 1441.47 Q2335.81 1441.47 2338.87 1446.07 Q2341.94 1450.66 2341.94 1459.41 Q2341.94 1468.13 2338.87 1472.74 Q2335.81 1477.32 2330 1477.32 Q2324.19 1477.32 2321.11 1472.74 Q2318.06 1468.13 2318.06 1459.41 Q2318.06 1450.66 2321.11 1446.07 Q2324.19 1441.47 2330 1441.47 Z\" fill=\"#000000\" fill-rule=\"evenodd\" fill-opacity=\"1\" /><path clip-path=\"url(#clip280)\" d=\"M 0 0 M135.126 1212.15 L151.445 1212.15 L151.445 1216.08 L129.501 1216.08 L129.501 1212.15 Q132.163 1209.39 136.746 1204.76 Q141.353 1200.11 142.533 1198.77 Q144.779 1196.24 145.658 1194.51 Q146.561 1192.75 146.561 1191.06 Q146.561 1188.3 144.617 1186.57 Q142.695 1184.83 139.593 1184.83 Q137.394 1184.83 134.941 1185.6 Q132.51 1186.36 129.732 1187.91 L129.732 1183.19 Q132.556 1182.05 135.01 1181.48 Q137.464 1180.9 139.501 1180.9 Q144.871 1180.9 148.066 1183.58 Q151.26 1186.27 151.26 1190.76 Q151.26 1192.89 150.45 1194.81 Q149.663 1196.71 147.556 1199.3 Q146.978 1199.97 143.876 1203.19 Q140.774 1206.38 135.126 1212.15 Z\" fill=\"#000000\" fill-rule=\"evenodd\" fill-opacity=\"1\" /><path clip-path=\"url(#clip280)\" d=\"M 0 0 M141.862 814.724 L130.056 833.173 L141.862 833.173 L141.862 814.724 M140.635 810.65 L146.515 810.65 L146.515 833.173 L151.445 833.173 L151.445 837.062 L146.515 837.062 L146.515 845.21 L141.862 845.21 L141.862 837.062 L126.26 837.062 L126.26 832.548 L140.635 810.65 Z\" fill=\"#000000\" fill-rule=\"evenodd\" fill-opacity=\"1\" /><path clip-path=\"url(#clip280)\" d=\"M 0 0 M139.917 455.194 Q136.769 455.194 134.918 457.347 Q133.089 459.5 133.089 463.25 Q133.089 466.977 134.918 469.153 Q136.769 471.305 139.917 471.305 Q143.066 471.305 144.894 469.153 Q146.746 466.977 146.746 463.25 Q146.746 459.5 144.894 457.347 Q143.066 455.194 139.917 455.194 M149.2 440.542 L149.2 444.801 Q147.441 443.968 145.635 443.528 Q143.853 443.088 142.093 443.088 Q137.464 443.088 135.01 446.213 Q132.58 449.338 132.232 455.657 Q133.598 453.644 135.658 452.579 Q137.718 451.491 140.195 451.491 Q145.404 451.491 148.413 454.662 Q151.445 457.81 151.445 463.25 Q151.445 468.574 148.297 471.792 Q145.149 475.009 139.917 475.009 Q133.922 475.009 130.751 470.426 Q127.58 465.819 127.58 457.093 Q127.58 448.898 131.468 444.037 Q135.357 439.153 141.908 439.153 Q143.667 439.153 145.45 439.5 Q147.255 439.847 149.2 440.542 Z\" fill=\"#000000\" fill-rule=\"evenodd\" fill-opacity=\"1\" /><path clip-path=\"url(#clip280)\" d=\"M 0 0 M139.593 87.0537 Q136.26 87.0537 134.339 88.8361 Q132.441 90.6185 132.441 93.7435 Q132.441 96.8685 134.339 98.6509 Q136.26 100.433 139.593 100.433 Q142.927 100.433 144.848 98.6509 Q146.769 96.8453 146.769 93.7435 Q146.769 90.6185 144.848 88.8361 Q142.95 87.0537 139.593 87.0537 M134.918 85.063 Q131.908 84.3223 130.218 82.2621 Q128.552 80.2019 128.552 77.239 Q128.552 73.0955 131.492 70.6881 Q134.455 68.2807 139.593 68.2807 Q144.755 68.2807 147.695 70.6881 Q150.635 73.0955 150.635 77.239 Q150.635 80.2019 148.945 82.2621 Q147.279 84.3223 144.292 85.063 Q147.672 85.85 149.547 88.1417 Q151.445 90.4333 151.445 93.7435 Q151.445 98.7666 148.367 101.452 Q145.311 104.137 139.593 104.137 Q133.876 104.137 130.797 101.452 Q127.742 98.7666 127.742 93.7435 Q127.742 90.4333 129.64 88.1417 Q131.538 85.85 134.918 85.063 M133.205 77.6788 Q133.205 80.3639 134.871 81.8686 Q136.561 83.3732 139.593 83.3732 Q142.603 83.3732 144.292 81.8686 Q146.005 80.3639 146.005 77.6788 Q146.005 74.9936 144.292 73.489 Q142.603 71.9844 139.593 71.9844 Q136.561 71.9844 134.871 73.489 Q133.205 74.9936 133.205 77.6788 Z\" fill=\"#000000\" fill-rule=\"evenodd\" fill-opacity=\"1\" /><path clip-path=\"url(#clip280)\" d=\"M 0 0 M1146.11 1508.52 L1152.54 1508.52 L1152.54 1556.04 L1146.11 1556.04 L1146.11 1508.52 Z\" fill=\"#000000\" fill-rule=\"evenodd\" fill-opacity=\"1\" /><path clip-path=\"url(#clip280)\" d=\"M 0 0 M1164.48 1510.27 L1164.48 1520.4 L1176.54 1520.4 L1176.54 1524.95 L1164.48 1524.95 L1164.48 1544.3 Q1164.48 1548.66 1165.65 1549.9 Q1166.86 1551.14 1170.52 1551.14 L1176.54 1551.14 L1176.54 1556.04 L1170.52 1556.04 Q1163.75 1556.04 1161.17 1553.53 Q1158.59 1550.98 1158.59 1544.3 L1158.59 1524.95 L1154.29 1524.95 L1154.29 1520.4 L1158.59 1520.4 L1158.59 1510.27 L1164.48 1510.27 Z\" fill=\"#000000\" fill-rule=\"evenodd\" fill-opacity=\"1\" /><path clip-path=\"url(#clip280)\" d=\"M 0 0 M1213.17 1536.76 L1213.17 1539.62 L1186.25 1539.62 Q1186.63 1545.67 1189.88 1548.85 Q1193.15 1552 1198.98 1552 Q1202.35 1552 1205.5 1551.17 Q1208.69 1550.35 1211.81 1548.69 L1211.81 1554.23 Q1208.66 1555.57 1205.35 1556.27 Q1202.03 1556.97 1198.63 1556.97 Q1190.1 1556.97 1185.1 1552 Q1180.14 1547.04 1180.14 1538.57 Q1180.14 1529.82 1184.85 1524.69 Q1189.59 1519.54 1197.61 1519.54 Q1204.8 1519.54 1208.97 1524.18 Q1213.17 1528.8 1213.17 1536.76 M1207.32 1535.04 Q1207.25 1530.23 1204.61 1527.37 Q1202 1524.5 1197.67 1524.5 Q1192.77 1524.5 1189.81 1527.27 Q1186.88 1530.04 1186.44 1535.07 L1207.32 1535.04 Z\" fill=\"#000000\" fill-rule=\"evenodd\" fill-opacity=\"1\" /><path clip-path=\"url(#clip280)\" d=\"M 0 0 M1239.97 1525.87 Q1238.99 1525.3 1237.81 1525.04 Q1236.66 1524.76 1235.26 1524.76 Q1230.3 1524.76 1227.63 1528 Q1224.98 1531.22 1224.98 1537.27 L1224.98 1556.04 L1219.1 1556.04 L1219.1 1520.4 L1224.98 1520.4 L1224.98 1525.93 Q1226.83 1522.69 1229.79 1521.13 Q1232.75 1519.54 1236.98 1519.54 Q1237.59 1519.54 1238.32 1519.63 Q1239.05 1519.7 1239.94 1519.85 L1239.97 1525.87 Z\" fill=\"#000000\" fill-rule=\"evenodd\" fill-opacity=\"1\" /><path clip-path=\"url(#clip280)\" d=\"M 0 0 M1262.32 1538.12 Q1255.22 1538.12 1252.48 1539.75 Q1249.75 1541.37 1249.75 1545.29 Q1249.75 1548.4 1251.78 1550.25 Q1253.85 1552.07 1257.38 1552.07 Q1262.25 1552.07 1265.18 1548.63 Q1268.14 1545.16 1268.14 1539.43 L1268.14 1538.12 L1262.32 1538.12 M1274 1535.71 L1274 1556.04 L1268.14 1556.04 L1268.14 1550.63 Q1266.14 1553.88 1263.15 1555.44 Q1260.15 1556.97 1255.83 1556.97 Q1250.35 1556.97 1247.1 1553.91 Q1243.89 1550.82 1243.89 1545.67 Q1243.89 1539.65 1247.9 1536.6 Q1251.94 1533.54 1259.93 1533.54 L1268.14 1533.54 L1268.14 1532.97 Q1268.14 1528.93 1265.47 1526.73 Q1262.83 1524.5 1258.02 1524.5 Q1254.97 1524.5 1252.07 1525.23 Q1249.17 1525.97 1246.5 1527.43 L1246.5 1522.02 Q1249.71 1520.78 1252.74 1520.17 Q1255.76 1519.54 1258.63 1519.54 Q1266.36 1519.54 1270.18 1523.55 Q1274 1527.56 1274 1535.71 Z\" fill=\"#000000\" fill-rule=\"evenodd\" fill-opacity=\"1\" /><path clip-path=\"url(#clip280)\" d=\"M 0 0 M1285.93 1510.27 L1285.93 1520.4 L1298 1520.4 L1298 1524.95 L1285.93 1524.95 L1285.93 1544.3 Q1285.93 1548.66 1287.11 1549.9 Q1288.32 1551.14 1291.98 1551.14 L1298 1551.14 L1298 1556.04 L1291.98 1556.04 Q1285.2 1556.04 1282.62 1553.53 Q1280.05 1550.98 1280.05 1544.3 L1280.05 1524.95 L1275.75 1524.95 L1275.75 1520.4 L1280.05 1520.4 L1280.05 1510.27 L1285.93 1510.27 Z\" fill=\"#000000\" fill-rule=\"evenodd\" fill-opacity=\"1\" /><path clip-path=\"url(#clip280)\" d=\"M 0 0 M1304.14 1520.4 L1310 1520.4 L1310 1556.04 L1304.14 1556.04 L1304.14 1520.4 M1304.14 1506.52 L1310 1506.52 L1310 1513.93 L1304.14 1513.93 L1304.14 1506.52 Z\" fill=\"#000000\" fill-rule=\"evenodd\" fill-opacity=\"1\" /><path clip-path=\"url(#clip280)\" d=\"M 0 0 M1329.95 1524.5 Q1325.24 1524.5 1322.51 1528.19 Q1319.77 1531.85 1319.77 1538.25 Q1319.77 1544.65 1322.47 1548.34 Q1325.21 1552 1329.95 1552 Q1334.63 1552 1337.37 1548.31 Q1340.11 1544.62 1340.11 1538.25 Q1340.11 1531.92 1337.37 1528.23 Q1334.63 1524.5 1329.95 1524.5 M1329.95 1519.54 Q1337.59 1519.54 1341.95 1524.5 Q1346.31 1529.47 1346.31 1538.25 Q1346.31 1547 1341.95 1552 Q1337.59 1556.97 1329.95 1556.97 Q1322.28 1556.97 1317.92 1552 Q1313.59 1547 1313.59 1538.25 Q1313.59 1529.47 1317.92 1524.5 Q1322.28 1519.54 1329.95 1519.54 Z\" fill=\"#000000\" fill-rule=\"evenodd\" fill-opacity=\"1\" /><path clip-path=\"url(#clip280)\" d=\"M 0 0 M1382.09 1534.53 L1382.09 1556.04 L1376.23 1556.04 L1376.23 1534.72 Q1376.23 1529.66 1374.26 1527.14 Q1372.29 1524.63 1368.34 1524.63 Q1363.6 1524.63 1360.86 1527.65 Q1358.12 1530.68 1358.12 1535.9 L1358.12 1556.04 L1352.23 1556.04 L1352.23 1520.4 L1358.12 1520.4 L1358.12 1525.93 Q1360.22 1522.72 1363.06 1521.13 Q1365.92 1519.54 1369.64 1519.54 Q1375.79 1519.54 1378.94 1523.36 Q1382.09 1527.14 1382.09 1534.53 Z\" fill=\"#000000\" fill-rule=\"evenodd\" fill-opacity=\"1\" /><path clip-path=\"url(#clip280)\" d=\"M 0 0 M40.4842 1015.56 L40.4842 1006.9 L80.238 985.83 L40.4842 985.83 L40.4842 979.591 L88.0042 979.591 L88.0042 988.249 L48.2503 1009.32 L88.0042 1009.32 L88.0042 1015.56 L40.4842 1015.56 Z\" fill=\"#000000\" fill-rule=\"evenodd\" fill-opacity=\"1\" /><path clip-path=\"url(#clip280)\" d=\"M 0 0 M73.9359 974.053 L52.3562 974.053 L52.3562 968.197 L73.7131 968.197 Q78.7739 968.197 81.3202 966.223 Q83.8346 964.25 83.8346 960.303 Q83.8346 955.561 80.8109 952.824 Q77.7872 950.055 72.5673 950.055 L52.3562 950.055 L52.3562 944.198 L88.0042 944.198 L88.0042 950.055 L82.5296 950.055 Q85.7762 952.187 87.3676 955.02 Q88.9272 957.821 88.9272 961.545 Q88.9272 967.688 85.1078 970.87 Q81.2883 974.053 73.9359 974.053 M51.4968 959.317 L51.4968 959.317 Z\" fill=\"#000000\" fill-rule=\"evenodd\" fill-opacity=\"1\" /><path clip-path=\"url(#clip280)\" d=\"M 0 0 M59.1993 910.301 Q55.2526 908.105 53.3747 905.049 Q51.4968 901.993 51.4968 897.856 Q51.4968 892.286 55.4117 889.262 Q59.2948 886.238 66.4881 886.238 L88.0042 886.238 L88.0042 892.127 L66.679 892.127 Q61.5546 892.127 59.072 893.941 Q56.5894 895.755 56.5894 899.479 Q56.5894 904.031 59.6131 906.672 Q62.6368 909.314 67.8567 909.314 L88.0042 909.314 L88.0042 915.202 L66.679 915.202 Q61.5228 915.202 59.072 917.017 Q56.5894 918.831 56.5894 922.618 Q56.5894 927.106 59.6449 929.748 Q62.6686 932.39 67.8567 932.39 L88.0042 932.39 L88.0042 938.278 L52.3562 938.278 L52.3562 932.39 L57.8944 932.39 Q54.616 930.385 53.0564 927.584 Q51.4968 924.783 51.4968 920.931 Q51.4968 917.048 53.4702 914.343 Q55.4436 911.606 59.1993 910.301 Z\" fill=\"#000000\" fill-rule=\"evenodd\" fill-opacity=\"1\" /><path clip-path=\"url(#clip280)\" d=\"M 0 0 M70.212 854.505 Q63.7508 854.505 60.0905 857.179 Q56.3984 859.821 56.3984 864.468 Q56.3984 869.115 60.0905 871.788 Q63.7508 874.43 70.212 874.43 Q76.6732 874.43 80.3653 871.788 Q84.0256 869.115 84.0256 864.468 Q84.0256 859.821 80.3653 857.179 Q76.6732 854.505 70.212 854.505 M57.7671 874.43 Q54.5842 872.584 53.0564 869.783 Q51.4968 866.95 51.4968 863.035 Q51.4968 856.542 56.6531 852.5 Q61.8093 848.426 70.212 848.426 Q78.6147 848.426 83.771 852.5 Q88.9272 856.542 88.9272 863.035 Q88.9272 866.95 87.3994 869.783 Q85.8398 872.584 82.657 874.43 L88.0042 874.43 L88.0042 880.318 L38.479 880.318 L38.479 874.43 L57.7671 874.43 Z\" fill=\"#000000\" fill-rule=\"evenodd\" fill-opacity=\"1\" /><path clip-path=\"url(#clip280)\" d=\"M 0 0 M68.7161 811.791 L71.5806 811.791 L71.5806 838.718 Q77.6281 838.336 80.8109 835.09 Q83.9619 831.812 83.9619 825.987 Q83.9619 822.613 83.1344 819.462 Q82.3069 816.279 80.6518 813.16 L86.1899 813.16 Q87.5267 816.311 88.227 819.621 Q88.9272 822.931 88.9272 826.337 Q88.9272 834.867 83.9619 839.864 Q78.9967 844.829 70.5303 844.829 Q61.7774 844.829 56.6531 840.119 Q51.4968 835.376 51.4968 827.356 Q51.4968 820.162 56.1438 815.993 Q60.7589 811.791 68.7161 811.791 M66.9973 817.648 Q62.1912 817.712 59.3266 820.353 Q56.4621 822.963 56.4621 827.292 Q56.4621 832.194 59.2312 835.154 Q62.0002 838.082 67.0292 838.527 L66.9973 817.648 Z\" fill=\"#000000\" fill-rule=\"evenodd\" fill-opacity=\"1\" /><path clip-path=\"url(#clip280)\" d=\"M 0 0 M57.8307 784.992 Q57.2578 785.978 57.0032 787.156 Q56.7167 788.302 56.7167 789.702 Q56.7167 794.668 59.9632 797.341 Q63.1779 799.983 69.2253 799.983 L88.0042 799.983 L88.0042 805.871 L52.3562 805.871 L52.3562 799.983 L57.8944 799.983 Q54.6479 798.137 53.0883 795.177 Q51.4968 792.217 51.4968 787.984 Q51.4968 787.379 51.5923 786.647 Q51.656 785.915 51.8151 785.024 L57.8307 784.992 Z\" fill=\"#000000\" fill-rule=\"evenodd\" fill-opacity=\"1\" /><path clip-path=\"url(#clip280)\" d=\"M 0 0 M56.4621 744.315 Q56.4621 749.026 60.1542 751.763 Q63.8145 754.5 70.212 754.5 Q76.6095 754.5 80.3017 751.795 Q83.9619 749.057 83.9619 744.315 Q83.9619 739.636 80.2698 736.899 Q76.5777 734.162 70.212 734.162 Q63.8781 734.162 60.186 736.899 Q56.4621 739.636 56.4621 744.315 M51.4968 744.315 Q51.4968 736.676 56.4621 732.316 Q61.4273 727.955 70.212 727.955 Q78.9649 727.955 83.9619 732.316 Q88.9272 736.676 88.9272 744.315 Q88.9272 751.986 83.9619 756.346 Q78.9649 760.675 70.212 760.675 Q61.4273 760.675 56.4621 756.346 Q51.4968 751.986 51.4968 744.315 Z\" fill=\"#000000\" fill-rule=\"evenodd\" fill-opacity=\"1\" /><path clip-path=\"url(#clip280)\" d=\"M 0 0 M38.479 703.765 L43.3487 703.765 L43.3487 709.367 Q43.3487 712.518 44.6219 713.76 Q45.895 714.969 49.2052 714.969 L52.3562 714.969 L52.3562 705.325 L56.9077 705.325 L56.9077 714.969 L88.0042 714.969 L88.0042 720.857 L56.9077 720.857 L56.9077 726.459 L52.3562 726.459 L52.3562 720.857 L49.8736 720.857 Q43.9216 720.857 41.2162 718.088 Q38.479 715.319 38.479 709.304 L38.479 703.765 Z\" fill=\"#000000\" fill-rule=\"evenodd\" fill-opacity=\"1\" /><path clip-path=\"url(#clip280)\" d=\"M 0 0 M53.7248 651.248 L59.1993 651.248 Q57.8307 653.731 57.1623 656.245 Q56.4621 658.728 56.4621 661.274 Q56.4621 666.972 60.0905 670.123 Q63.6872 673.274 70.212 673.274 Q76.7369 673.274 80.3653 670.123 Q83.9619 666.972 83.9619 661.274 Q83.9619 658.728 83.2935 656.245 Q82.5933 653.731 81.2247 651.248 L86.6355 651.248 Q87.7814 653.699 88.3543 656.341 Q88.9272 658.951 88.9272 661.911 Q88.9272 669.963 83.8664 674.706 Q78.8057 679.448 70.212 679.448 Q61.491 679.448 56.4939 674.674 Q51.4968 669.868 51.4968 661.529 Q51.4968 658.823 52.0697 656.245 Q52.6108 653.667 53.7248 651.248 Z\" fill=\"#000000\" fill-rule=\"evenodd\" fill-opacity=\"1\" /><path clip-path=\"url(#clip280)\" d=\"M 0 0 M38.479 645.105 L38.479 639.249 L88.0042 639.249 L88.0042 645.105 L38.479 645.105 Z\" fill=\"#000000\" fill-rule=\"evenodd\" fill-opacity=\"1\" /><path clip-path=\"url(#clip280)\" d=\"M 0 0 M73.9359 633.711 L52.3562 633.711 L52.3562 627.854 L73.7131 627.854 Q78.7739 627.854 81.3202 625.881 Q83.8346 623.908 83.8346 619.961 Q83.8346 615.218 80.8109 612.481 Q77.7872 609.712 72.5673 609.712 L52.3562 609.712 L52.3562 603.856 L88.0042 603.856 L88.0042 609.712 L82.5296 609.712 Q85.7762 611.845 87.3676 614.677 Q88.9272 617.478 88.9272 621.202 Q88.9272 627.345 85.1078 630.528 Q81.2883 633.711 73.9359 633.711 M51.4968 618.974 L51.4968 618.974 Z\" fill=\"#000000\" fill-rule=\"evenodd\" fill-opacity=\"1\" /><path clip-path=\"url(#clip280)\" d=\"M 0 0 M53.4065 574.987 L58.9447 574.987 Q57.6716 577.47 57.035 580.143 Q56.3984 582.817 56.3984 585.682 Q56.3984 590.042 57.7352 592.238 Q59.072 594.403 61.7456 594.403 Q63.7826 594.403 64.9603 592.843 Q66.1061 591.283 67.1565 586.573 L67.6021 584.568 Q68.9389 578.329 71.3897 575.719 Q73.8086 573.077 78.1691 573.077 Q83.1344 573.077 86.0308 577.024 Q88.9272 580.939 88.9272 587.814 Q88.9272 590.679 88.3543 593.798 Q87.8132 596.885 86.6992 600.323 L80.6518 600.323 Q82.3387 597.076 83.198 593.925 Q84.0256 590.774 84.0256 587.687 Q84.0256 583.549 82.6251 581.321 Q81.1929 579.093 78.6147 579.093 Q76.2276 579.093 74.9545 580.716 Q73.6813 582.308 72.5037 587.75 L72.0262 589.787 Q70.8804 595.23 68.5251 597.649 Q66.138 600.068 62.0002 600.068 Q56.9713 600.068 54.2341 596.503 Q51.4968 592.938 51.4968 586.382 Q51.4968 583.135 51.9743 580.271 Q52.4517 577.406 53.4065 574.987 Z\" fill=\"#000000\" fill-rule=\"evenodd\" fill-opacity=\"1\" /><path clip-path=\"url(#clip280)\" d=\"M 0 0 M42.2347 561.142 L52.3562 561.142 L52.3562 549.079 L56.9077 549.079 L56.9077 561.142 L76.2594 561.142 Q80.6199 561.142 81.8613 559.964 Q83.1026 558.755 83.1026 555.094 L83.1026 549.079 L88.0042 549.079 L88.0042 555.094 Q88.0042 561.874 85.4897 564.452 Q82.9434 567.03 76.2594 567.03 L56.9077 567.03 L56.9077 571.327 L52.3562 571.327 L52.3562 567.03 L42.2347 567.03 L42.2347 561.142 Z\" fill=\"#000000\" fill-rule=\"evenodd\" fill-opacity=\"1\" /><path clip-path=\"url(#clip280)\" d=\"M 0 0 M68.7161 512.444 L71.5806 512.444 L71.5806 539.371 Q77.6281 538.989 80.8109 535.743 Q83.9619 532.464 83.9619 526.64 Q83.9619 523.266 83.1344 520.115 Q82.3069 516.932 80.6518 513.813 L86.1899 513.813 Q87.5267 516.964 88.227 520.274 Q88.9272 523.584 88.9272 526.99 Q88.9272 535.52 83.9619 540.517 Q78.9967 545.482 70.5303 545.482 Q61.7774 545.482 56.6531 540.771 Q51.4968 536.029 51.4968 528.008 Q51.4968 520.815 56.1438 516.645 Q60.7589 512.444 68.7161 512.444 M66.9973 518.301 Q62.1912 518.364 59.3266 521.006 Q56.4621 523.616 56.4621 527.945 Q56.4621 532.846 59.2312 535.806 Q62.0002 538.734 67.0292 539.18 L66.9973 518.301 Z\" fill=\"#000000\" fill-rule=\"evenodd\" fill-opacity=\"1\" /><path clip-path=\"url(#clip280)\" d=\"M 0 0 M57.8307 485.644 Q57.2578 486.631 57.0032 487.809 Q56.7167 488.955 56.7167 490.355 Q56.7167 495.32 59.9632 497.994 Q63.1779 500.636 69.2253 500.636 L88.0042 500.636 L88.0042 506.524 L52.3562 506.524 L52.3562 500.636 L57.8944 500.636 Q54.6479 498.79 53.0883 495.83 Q51.4968 492.87 51.4968 488.636 Q51.4968 488.032 51.5923 487.3 Q51.656 486.567 51.8151 485.676 L57.8307 485.644 Z\" fill=\"#000000\" fill-rule=\"evenodd\" fill-opacity=\"1\" /><path clip-path=\"url(#clip280)\" d=\"M 0 0 M53.4065 456.776 L58.9447 456.776 Q57.6716 459.259 57.035 461.932 Q56.3984 464.606 56.3984 467.47 Q56.3984 471.831 57.7352 474.027 Q59.072 476.191 61.7456 476.191 Q63.7826 476.191 64.9603 474.632 Q66.1061 473.072 67.1565 468.362 L67.6021 466.356 Q68.9389 460.118 71.3897 457.508 Q73.8086 454.866 78.1691 454.866 Q83.1344 454.866 86.0308 458.813 Q88.9272 462.728 88.9272 469.603 Q88.9272 472.467 88.3543 475.587 Q87.8132 478.674 86.6992 482.111 L80.6518 482.111 Q82.3387 478.865 83.198 475.714 Q84.0256 472.563 84.0256 469.476 Q84.0256 465.338 82.6251 463.11 Q81.1929 460.882 78.6147 460.882 Q76.2276 460.882 74.9545 462.505 Q73.6813 464.097 72.5037 469.539 L72.0262 471.576 Q70.8804 477.019 68.5251 479.438 Q66.138 481.857 62.0002 481.857 Q56.9713 481.857 54.2341 478.292 Q51.4968 474.727 51.4968 468.171 Q51.4968 464.924 51.9743 462.059 Q52.4517 459.195 53.4065 456.776 Z\" fill=\"#000000\" fill-rule=\"evenodd\" fill-opacity=\"1\" /><polyline clip-path=\"url(#clip282)\" style=\"stroke:#009af9; stroke-width:4; stroke-opacity:1; fill:none\" points=\"\n",
       "  237.067,1013.37 239.123,1013.37 241.179,1013.37 243.236,827.93 245.292,827.93 247.348,827.93 249.404,1013.37 251.46,1013.37 253.516,827.93 255.572,1013.37 \n",
       "  257.628,1013.37 259.685,1013.37 261.741,1198.8 263.797,1198.8 265.853,642.494 267.909,642.494 269.965,642.494 272.021,1198.8 274.077,1198.8 276.134,1198.8 \n",
       "  278.19,1198.8 280.246,1198.8 282.302,1198.8 284.358,1198.8 286.414,1198.8 288.47,1198.8 290.526,1013.37 292.583,1198.8 294.639,1198.8 296.695,642.494 \n",
       "  298.751,642.494 300.807,457.058 302.863,642.494 304.919,642.494 306.975,642.494 309.032,642.494 311.088,827.93 313.144,1013.37 315.2,827.93 317.256,1198.8 \n",
       "  319.312,1013.37 321.368,1198.8 323.424,1198.8 325.48,1198.8 327.537,1198.8 329.593,1198.8 331.649,827.93 333.705,827.93 335.761,827.93 337.817,827.93 \n",
       "  339.873,827.93 341.929,827.93 343.986,827.93 346.042,827.93 348.098,827.93 350.154,642.494 352.21,642.494 354.266,457.058 356.322,827.93 358.378,827.93 \n",
       "  360.435,1013.37 362.491,1013.37 364.547,1013.37 366.603,1013.37 368.659,827.93 370.715,827.93 372.771,827.93 374.827,827.93 376.884,1013.37 378.94,1198.8 \n",
       "  380.996,1013.37 383.052,1013.37 385.108,827.93 387.164,827.93 389.22,827.93 391.276,827.93 393.333,1013.37 395.389,1013.37 397.445,1013.37 399.501,1013.37 \n",
       "  401.557,642.494 403.613,827.93 405.669,827.93 407.725,1384.24 409.782,1013.37 411.838,1198.8 413.894,827.93 415.95,642.494 418.006,827.93 420.062,827.93 \n",
       "  422.118,827.93 424.174,827.93 426.231,827.93 428.287,827.93 430.343,827.93 432.399,827.93 434.455,827.93 436.511,827.93 438.567,827.93 440.623,827.93 \n",
       "  442.679,827.93 444.736,457.058 446.792,271.622 448.848,457.058 450.904,457.058 452.96,457.058 455.016,642.494 457.072,827.93 459.128,827.93 461.185,827.93 \n",
       "  463.241,827.93 465.297,642.494 467.353,827.93 469.409,1198.8 471.465,1013.37 473.521,827.93 475.577,827.93 477.634,827.93 479.69,827.93 481.746,827.93 \n",
       "  483.802,457.058 485.858,457.058 487.914,457.058 489.97,457.058 492.026,457.058 494.083,271.622 496.139,271.622 498.195,271.622 500.251,86.1857 502.307,271.622 \n",
       "  504.363,457.058 506.419,457.058 508.475,457.058 510.532,457.058 512.588,271.622 514.644,271.622 516.7,271.622 518.756,457.058 520.812,457.058 522.868,457.058 \n",
       "  524.924,457.058 526.981,457.058 529.037,457.058 531.093,457.058 533.149,457.058 535.205,457.058 537.261,457.058 539.317,457.058 541.373,271.622 543.43,642.494 \n",
       "  545.486,1013.37 547.542,1013.37 549.598,1013.37 551.654,642.494 553.71,1013.37 555.766,827.93 557.822,642.494 559.878,642.494 561.935,642.494 563.991,642.494 \n",
       "  566.047,642.494 568.103,642.494 570.159,642.494 572.215,457.058 574.271,642.494 576.327,642.494 578.384,642.494 580.44,642.494 582.496,642.494 584.552,827.93 \n",
       "  586.608,642.494 588.664,642.494 590.72,642.494 592.776,642.494 594.833,827.93 596.889,827.93 598.945,827.93 601.001,827.93 603.057,827.93 605.113,827.93 \n",
       "  607.169,827.93 609.225,827.93 611.282,827.93 613.338,827.93 615.394,827.93 617.45,827.93 619.506,457.058 621.562,642.494 623.618,457.058 625.674,457.058 \n",
       "  627.731,457.058 629.787,1013.37 631.843,457.058 633.899,457.058 635.955,457.058 638.011,1013.37 640.067,1013.37 642.123,1013.37 644.18,1013.37 646.236,1013.37 \n",
       "  648.292,1013.37 650.348,1013.37 652.404,1198.8 654.46,1198.8 656.516,1198.8 658.572,1198.8 660.629,1013.37 662.685,827.93 664.741,1013.37 666.797,827.93 \n",
       "  668.853,1013.37 670.909,1013.37 672.965,1013.37 675.021,827.93 677.077,1198.8 679.134,1198.8 681.19,1198.8 683.246,1198.8 685.302,1198.8 687.358,1198.8 \n",
       "  689.414,1198.8 691.47,1384.24 693.526,1384.24 695.583,1198.8 697.639,1013.37 699.695,1198.8 701.751,1198.8 703.807,827.93 705.863,827.93 707.919,457.058 \n",
       "  709.975,642.494 712.032,642.494 714.088,642.494 716.144,642.494 718.2,642.494 720.256,642.494 722.312,642.494 724.368,642.494 726.424,642.494 728.481,642.494 \n",
       "  730.537,642.494 732.593,642.494 734.649,642.494 736.705,1013.37 738.761,1013.37 740.817,1013.37 742.873,827.93 744.93,1013.37 746.986,1198.8 749.042,1198.8 \n",
       "  751.098,1198.8 753.154,1198.8 755.21,827.93 757.266,827.93 759.322,827.93 761.379,642.494 763.435,827.93 765.491,827.93 767.547,827.93 769.603,827.93 \n",
       "  771.659,642.494 773.715,1013.37 775.771,1013.37 777.828,1013.37 779.884,1198.8 781.94,1198.8 783.996,1198.8 786.052,1198.8 788.108,642.494 790.164,642.494 \n",
       "  792.22,1198.8 794.276,1198.8 796.333,1198.8 798.389,827.93 800.445,827.93 802.501,457.058 804.557,827.93 806.613,642.494 808.669,827.93 810.725,827.93 \n",
       "  812.782,1013.37 814.838,1013.37 816.894,1013.37 818.95,1013.37 821.006,1013.37 823.062,1013.37 825.118,1013.37 827.174,1013.37 829.231,1198.8 831.287,1198.8 \n",
       "  833.343,642.494 835.399,642.494 837.455,1198.8 839.511,1013.37 841.567,1198.8 843.623,1198.8 845.68,1198.8 847.736,1013.37 849.792,1198.8 851.848,1013.37 \n",
       "  853.904,1013.37 855.96,1013.37 858.016,1013.37 860.072,1013.37 862.129,1013.37 864.185,1013.37 866.241,1013.37 868.297,1013.37 870.353,1013.37 872.409,1013.37 \n",
       "  874.465,1013.37 876.521,1013.37 878.578,642.494 880.634,827.93 882.69,827.93 884.746,827.93 886.802,827.93 888.858,827.93 890.914,1013.37 892.97,1013.37 \n",
       "  895.027,1013.37 897.083,1013.37 899.139,1013.37 901.195,1013.37 903.251,1013.37 905.307,827.93 907.363,1013.37 909.419,1013.37 911.475,1013.37 913.532,1013.37 \n",
       "  915.588,1013.37 917.644,1013.37 919.7,1013.37 921.756,1013.37 923.812,1013.37 925.868,1013.37 927.924,1013.37 929.981,1013.37 932.037,1013.37 934.093,1013.37 \n",
       "  936.149,1013.37 938.205,1013.37 940.261,1013.37 942.317,1013.37 944.373,1013.37 946.43,1013.37 948.486,1013.37 950.542,827.93 952.598,1013.37 954.654,1013.37 \n",
       "  956.71,642.494 958.766,642.494 960.822,827.93 962.879,457.058 964.935,457.058 966.991,642.494 969.047,642.494 971.103,642.494 973.159,642.494 975.215,827.93 \n",
       "  977.271,642.494 979.328,642.494 981.384,642.494 983.44,271.622 985.496,457.058 987.552,457.058 989.608,457.058 991.664,457.058 993.72,457.058 995.777,642.494 \n",
       "  997.833,642.494 999.889,1198.8 1001.94,1198.8 1004,1013.37 1006.06,1198.8 1008.11,1198.8 1010.17,1198.8 1012.23,1198.8 1014.28,1384.24 1016.34,1198.8 \n",
       "  1018.39,642.494 1020.45,642.494 1022.51,457.058 1024.56,827.93 1026.62,1198.8 1028.67,1013.37 1030.73,1198.8 1032.79,1198.8 1034.84,1013.37 1036.9,1013.37 \n",
       "  1038.96,1013.37 1041.01,1013.37 1043.07,1198.8 1045.12,1198.8 1047.18,642.494 1049.24,827.93 1051.29,827.93 1053.35,1013.37 1055.4,1013.37 1057.46,1013.37 \n",
       "  1059.52,827.93 1061.57,827.93 1063.63,642.494 1065.68,827.93 1067.74,1198.8 1069.8,1013.37 1071.85,1198.8 1073.91,1198.8 1075.97,1198.8 1078.02,1198.8 \n",
       "  1080.08,1013.37 1082.13,1013.37 1084.19,1013.37 1086.25,1013.37 1088.3,1013.37 1090.36,827.93 1092.41,1013.37 1094.47,1013.37 1096.53,1013.37 1098.58,1013.37 \n",
       "  1100.64,827.93 1102.69,1384.24 1104.75,1198.8 1106.81,1198.8 1108.86,1013.37 1110.92,827.93 1112.98,1198.8 1115.03,1198.8 1117.09,1198.8 1119.14,1198.8 \n",
       "  1121.2,1198.8 1123.26,1198.8 1125.31,1198.8 1127.37,1198.8 1129.42,1013.37 1131.48,1198.8 1133.54,1198.8 1135.59,1198.8 1137.65,1013.37 1139.71,1198.8 \n",
       "  1141.76,1198.8 1143.82,1198.8 1145.87,1198.8 1147.93,1198.8 1149.99,1198.8 1152.04,1198.8 1154.1,1198.8 1156.15,1198.8 1158.21,1198.8 1160.27,1198.8 \n",
       "  1162.32,1198.8 1164.38,1198.8 1166.43,1198.8 1168.49,1198.8 1170.55,1198.8 1172.6,1198.8 1174.66,1013.37 1176.72,1198.8 1178.77,1198.8 1180.83,1198.8 \n",
       "  1182.88,1198.8 1184.94,1198.8 1187,1198.8 1189.05,1198.8 1191.11,1198.8 1193.16,1198.8 1195.22,1198.8 1197.28,1198.8 1199.33,1198.8 1201.39,1198.8 \n",
       "  1203.44,1198.8 1205.5,1013.37 1207.56,1198.8 1209.61,1198.8 1211.67,1198.8 1213.73,1198.8 1215.78,1198.8 1217.84,1198.8 1219.89,1198.8 1221.95,1198.8 \n",
       "  1224.01,1198.8 1226.06,1198.8 1228.12,1198.8 1230.17,1198.8 1232.23,1013.37 1234.29,1198.8 1236.34,1013.37 1238.4,1013.37 1240.46,1013.37 1242.51,1198.8 \n",
       "  1244.57,1198.8 1246.62,1198.8 1248.68,1013.37 1250.74,827.93 1252.79,1198.8 1254.85,1198.8 1256.9,1013.37 1258.96,1013.37 1261.02,1198.8 1263.07,1198.8 \n",
       "  1265.13,1384.24 1267.18,1384.24 1269.24,1384.24 1271.3,1384.24 1273.35,1384.24 1275.41,1384.24 1277.47,1384.24 1279.52,1384.24 1281.58,1384.24 1283.63,1384.24 \n",
       "  1285.69,1384.24 1287.75,1384.24 1289.8,1013.37 1291.86,1013.37 1293.91,1013.37 1295.97,1013.37 1298.03,1013.37 1300.08,1013.37 1302.14,827.93 1304.19,827.93 \n",
       "  1306.25,827.93 1308.31,827.93 1310.36,1013.37 1312.42,1013.37 1314.48,827.93 1316.53,642.494 1318.59,642.494 1320.64,642.494 1322.7,642.494 1324.76,827.93 \n",
       "  1326.81,827.93 1328.87,1013.37 1330.92,642.494 1332.98,457.058 1335.04,457.058 1337.09,457.058 1339.15,1013.37 1341.21,1013.37 1343.26,827.93 1345.32,1198.8 \n",
       "  1347.37,1384.24 1349.43,1384.24 1351.49,1198.8 1353.54,1198.8 1355.6,1384.24 1357.65,1198.8 1359.71,1384.24 1361.77,1384.24 1363.82,1384.24 1365.88,1384.24 \n",
       "  1367.93,1384.24 1369.99,1384.24 1372.05,1384.24 1374.1,1384.24 1376.16,1384.24 1378.22,1013.37 1380.27,1198.8 1382.33,1198.8 1384.38,1198.8 1386.44,1384.24 \n",
       "  1388.5,1384.24 1390.55,1384.24 1392.61,1384.24 1394.66,457.058 1396.72,457.058 1398.78,642.494 1400.83,827.93 1402.89,827.93 1404.94,827.93 1407,1198.8 \n",
       "  1409.06,1198.8 1411.11,827.93 1413.17,827.93 1415.23,827.93 1417.28,827.93 1419.34,827.93 1421.39,1013.37 1423.45,827.93 1425.51,1198.8 1427.56,1013.37 \n",
       "  1429.62,827.93 1431.67,1013.37 1433.73,1013.37 1435.79,1013.37 1437.84,1013.37 1439.9,1013.37 1441.96,1013.37 1444.01,827.93 1446.07,827.93 1448.12,827.93 \n",
       "  1450.18,827.93 1452.24,827.93 1454.29,827.93 1456.35,827.93 1458.4,827.93 1460.46,827.93 1462.52,827.93 1464.57,827.93 1466.63,642.494 1468.68,642.494 \n",
       "  1470.74,642.494 1472.8,642.494 1474.85,642.494 1476.91,642.494 1478.97,457.058 1481.02,457.058 1483.08,457.058 1485.13,642.494 1487.19,642.494 1489.25,827.93 \n",
       "  1491.3,827.93 1493.36,827.93 1495.41,827.93 1497.47,827.93 1499.53,642.494 1501.58,827.93 1503.64,827.93 1505.69,827.93 1507.75,827.93 1509.81,827.93 \n",
       "  1511.86,827.93 1513.92,827.93 1515.98,827.93 1518.03,827.93 1520.09,827.93 1522.14,827.93 1524.2,827.93 1526.26,827.93 1528.31,457.058 1530.37,457.058 \n",
       "  1532.42,457.058 1534.48,457.058 1536.54,271.622 1538.59,827.93 1540.65,827.93 1542.71,827.93 1544.76,827.93 1546.82,827.93 1548.87,827.93 1550.93,827.93 \n",
       "  1552.99,827.93 1555.04,642.494 1557.1,827.93 1559.15,1198.8 1561.21,642.494 1563.27,827.93 1565.32,827.93 1567.38,827.93 1569.43,642.494 1571.49,1384.24 \n",
       "  1573.55,1198.8 1575.6,1198.8 1577.66,1198.8 1579.72,1198.8 1581.77,1198.8 1583.83,1013.37 1585.88,827.93 1587.94,827.93 1590,827.93 1592.05,1198.8 \n",
       "  1594.11,1198.8 1596.16,1198.8 1598.22,1198.8 1600.28,1198.8 1602.33,1198.8 1604.39,1198.8 1606.45,1198.8 1608.5,1198.8 1610.56,1384.24 1612.61,1384.24 \n",
       "  1614.67,1198.8 1616.73,1384.24 1618.78,1384.24 1620.84,827.93 1622.89,827.93 1624.95,827.93 1627.01,827.93 1629.06,642.494 1631.12,642.494 1633.17,827.93 \n",
       "  1635.23,827.93 1637.29,642.494 1639.34,1013.37 1641.4,827.93 1643.46,827.93 1645.51,642.494 1647.57,827.93 1649.62,827.93 1651.68,827.93 1653.74,1013.37 \n",
       "  1655.79,1013.37 1657.85,457.058 1659.9,457.058 1661.96,457.058 1664.02,457.058 1666.07,827.93 1668.13,642.494 1670.18,827.93 1672.24,642.494 1674.3,642.494 \n",
       "  1676.35,827.93 1678.41,827.93 1680.47,642.494 1682.52,827.93 1684.58,827.93 1686.63,642.494 1688.69,827.93 1690.75,642.494 1692.8,827.93 1694.86,827.93 \n",
       "  1696.91,827.93 1698.97,827.93 1701.03,827.93 1703.08,1384.24 1705.14,1384.24 1707.2,1013.37 1709.25,1013.37 1711.31,1013.37 1713.36,1013.37 1715.42,642.494 \n",
       "  1717.48,642.494 1719.53,642.494 1721.59,1013.37 1723.64,1013.37 1725.7,642.494 1727.76,827.93 1729.81,827.93 1731.87,827.93 1733.92,827.93 1735.98,1013.37 \n",
       "  1738.04,1013.37 1740.09,1013.37 1742.15,1013.37 1744.21,827.93 1746.26,642.494 1748.32,827.93 1750.37,642.494 1752.43,642.494 1754.49,642.494 1756.54,642.494 \n",
       "  1758.6,457.058 1760.65,827.93 1762.71,827.93 1764.77,827.93 1766.82,827.93 1768.88,642.494 1770.93,642.494 1772.99,642.494 1775.05,642.494 1777.1,827.93 \n",
       "  1779.16,1384.24 1781.22,1198.8 1783.27,1384.24 1785.33,642.494 1787.38,827.93 1789.44,1013.37 1791.5,827.93 1793.55,827.93 1795.61,827.93 1797.66,827.93 \n",
       "  1799.72,642.494 1801.78,642.494 1803.83,827.93 1805.89,827.93 1807.95,827.93 1810,827.93 1812.06,1013.37 1814.11,642.494 1816.17,642.494 1818.23,642.494 \n",
       "  1820.28,642.494 1822.34,642.494 1824.39,642.494 1826.45,642.494 1828.51,642.494 1830.56,457.058 1832.62,642.494 1834.67,457.058 1836.73,642.494 1838.79,642.494 \n",
       "  1840.84,642.494 1842.9,642.494 1844.96,642.494 1847.01,1013.37 1849.07,1198.8 1851.12,1013.37 1853.18,1013.37 1855.24,1013.37 1857.29,1013.37 1859.35,1013.37 \n",
       "  1861.4,827.93 1863.46,827.93 1865.52,827.93 1867.57,1013.37 1869.63,271.622 1871.68,271.622 1873.74,271.622 1875.8,457.058 1877.85,642.494 1879.91,827.93 \n",
       "  1881.97,1013.37 1884.02,1013.37 1886.08,827.93 1888.13,1198.8 1890.19,1198.8 1892.25,1198.8 1894.3,1198.8 1896.36,1198.8 1898.41,1198.8 1900.47,1013.37 \n",
       "  1902.53,1198.8 1904.58,1013.37 1906.64,1013.37 1908.7,1384.24 1910.75,1384.24 1912.81,1198.8 1914.86,1013.37 1916.92,1384.24 1918.98,1384.24 1921.03,1198.8 \n",
       "  1923.09,1198.8 1925.14,457.058 1927.2,271.622 1929.26,457.058 1931.31,271.622 1933.37,457.058 1935.42,1013.37 1937.48,1198.8 1939.54,1013.37 1941.59,1198.8 \n",
       "  1943.65,1384.24 1945.71,1384.24 1947.76,1384.24 1949.82,1198.8 1951.87,1198.8 1953.93,1013.37 1955.99,1198.8 1958.04,1198.8 1960.1,1013.37 1962.15,1013.37 \n",
       "  1964.21,1013.37 1966.27,1013.37 1968.32,1013.37 1970.38,1013.37 1972.43,1013.37 1974.49,1013.37 1976.55,1013.37 1978.6,1013.37 1980.66,1013.37 1982.72,827.93 \n",
       "  1984.77,827.93 1986.83,1013.37 1988.88,827.93 1990.94,827.93 1993,827.93 1995.05,1013.37 1997.11,827.93 1999.16,827.93 2001.22,1013.37 2003.28,1013.37 \n",
       "  2005.33,827.93 2007.39,1013.37 2009.45,827.93 2011.5,827.93 2013.56,1013.37 2015.61,1013.37 2017.67,1013.37 2019.73,1013.37 2021.78,1013.37 2023.84,1013.37 \n",
       "  2025.89,1013.37 2027.95,827.93 2030.01,827.93 2032.06,642.494 2034.12,1013.37 2036.17,1013.37 2038.23,1013.37 2040.29,1013.37 2042.34,1013.37 2044.4,1013.37 \n",
       "  2046.46,1013.37 2048.51,827.93 2050.57,827.93 2052.62,827.93 2054.68,827.93 2056.74,827.93 2058.79,827.93 2060.85,827.93 2062.9,827.93 2064.96,827.93 \n",
       "  2067.02,827.93 2069.07,827.93 2071.13,827.93 2073.18,642.494 2075.24,827.93 2077.3,827.93 2079.35,457.058 2081.41,457.058 2083.47,457.058 2085.52,457.058 \n",
       "  2087.58,457.058 2089.63,457.058 2091.69,271.622 2093.75,457.058 2095.8,457.058 2097.86,1013.37 2099.91,1013.37 2101.97,1013.37 2104.03,1013.37 2106.08,1198.8 \n",
       "  2108.14,1198.8 2110.2,1198.8 2112.25,1198.8 2114.31,1013.37 2116.36,1198.8 2118.42,1013.37 2120.48,827.93 2122.53,1013.37 2124.59,827.93 2126.64,1013.37 \n",
       "  2128.7,1013.37 2130.76,1013.37 2132.81,1013.37 2134.87,1013.37 2136.92,1013.37 2138.98,1013.37 2141.04,1013.37 2143.09,827.93 2145.15,827.93 2147.21,827.93 \n",
       "  2149.26,827.93 2151.32,642.494 2153.37,1013.37 2155.43,1013.37 2157.49,1013.37 2159.54,1013.37 2161.6,1013.37 2163.65,1013.37 2165.71,1013.37 2167.77,1198.8 \n",
       "  2169.82,1013.37 2171.88,642.494 2173.93,1198.8 2175.99,1198.8 2178.05,1198.8 2180.1,1198.8 2182.16,1198.8 2184.22,1198.8 2186.27,1198.8 2188.33,1198.8 \n",
       "  2190.38,1013.37 2192.44,1198.8 2194.5,1198.8 2196.55,1198.8 2198.61,1198.8 2200.66,1013.37 2202.72,1198.8 2204.78,1198.8 2206.83,1198.8 2208.89,1198.8 \n",
       "  2210.95,1198.8 2213,1198.8 2215.06,1198.8 2217.11,1198.8 2219.17,1198.8 2221.23,1198.8 2223.28,1198.8 2225.34,1198.8 2227.39,1198.8 2229.45,1198.8 \n",
       "  2231.51,1198.8 2233.56,1198.8 2235.62,1013.37 2237.67,1013.37 2239.73,1013.37 2241.79,1013.37 2243.84,1013.37 2245.9,1013.37 2247.96,1013.37 2250.01,1013.37 \n",
       "  2252.07,1198.8 2254.12,1198.8 2256.18,1013.37 2258.24,1013.37 2260.29,827.93 2262.35,827.93 2264.4,827.93 2266.46,827.93 2268.52,1198.8 2270.57,1198.8 \n",
       "  2272.63,1013.37 2274.68,642.494 2276.74,642.494 2278.8,642.494 2280.85,642.494 2282.91,827.93 2284.97,827.93 2287.02,827.93 2289.08,827.93 2291.13,1198.8 \n",
       "  \n",
       "  \"/>\n",
       "<path clip-path=\"url(#clip280)\" d=\"\n",
       "M1886.52 251.724 L2280.76 251.724 L2280.76 130.764 L1886.52 130.764  Z\n",
       "  \" fill=\"#ffffff\" fill-rule=\"evenodd\" fill-opacity=\"1\"/>\n",
       "<polyline clip-path=\"url(#clip280)\" style=\"stroke:#000000; stroke-width:4; stroke-opacity:1; fill:none\" points=\"\n",
       "  1886.52,251.724 2280.76,251.724 2280.76,130.764 1886.52,130.764 1886.52,251.724 \n",
       "  \"/>\n",
       "<polyline clip-path=\"url(#clip280)\" style=\"stroke:#009af9; stroke-width:4; stroke-opacity:1; fill:none\" points=\"\n",
       "  1910.52,191.244 2054.52,191.244 \n",
       "  \"/>\n",
       "<path clip-path=\"url(#clip280)\" d=\"M 0 0 M2106.39 176.626 L2106.39 181.557 Q2104.03 179.358 2101.34 178.27 Q2098.68 177.182 2095.67 177.182 Q2089.75 177.182 2086.6 180.816 Q2083.45 184.427 2083.45 191.279 Q2083.45 198.107 2086.6 201.742 Q2089.75 205.353 2095.67 205.353 Q2098.68 205.353 2101.34 204.265 Q2104.03 203.177 2106.39 200.978 L2106.39 205.862 Q2103.94 207.529 2101.18 208.362 Q2098.45 209.195 2095.4 209.195 Q2087.55 209.195 2083.03 204.404 Q2078.52 199.589 2078.52 191.279 Q2078.52 182.946 2083.03 178.154 Q2087.55 173.339 2095.4 173.339 Q2098.5 173.339 2101.23 174.172 Q2103.98 174.983 2106.39 176.626 Z\" fill=\"#000000\" fill-rule=\"evenodd\" fill-opacity=\"1\" /><path clip-path=\"url(#clip280)\" d=\"M 0 0 M2132.41 192.876 L2132.41 208.524 L2128.15 208.524 L2128.15 193.015 Q2128.15 189.334 2126.71 187.506 Q2125.28 185.677 2122.41 185.677 Q2118.96 185.677 2116.97 187.876 Q2114.98 190.075 2114.98 193.871 L2114.98 208.524 L2110.7 208.524 L2110.7 172.506 L2114.98 172.506 L2114.98 186.626 Q2116.51 184.288 2118.57 183.131 Q2120.65 181.973 2123.36 181.973 Q2127.83 181.973 2130.12 184.751 Q2132.41 187.506 2132.41 192.876 Z\" fill=\"#000000\" fill-rule=\"evenodd\" fill-opacity=\"1\" /><path clip-path=\"url(#clip280)\" d=\"M 0 0 M2148.66 195.492 Q2143.5 195.492 2141.51 196.672 Q2139.52 197.853 2139.52 200.7 Q2139.52 202.969 2141 204.311 Q2142.5 205.631 2145.07 205.631 Q2148.61 205.631 2150.74 203.131 Q2152.9 200.607 2152.9 196.441 L2152.9 195.492 L2148.66 195.492 M2157.15 193.733 L2157.15 208.524 L2152.9 208.524 L2152.9 204.589 Q2151.44 206.95 2149.26 208.084 Q2147.09 209.195 2143.94 209.195 Q2139.96 209.195 2137.59 206.973 Q2135.26 204.728 2135.26 200.978 Q2135.26 196.603 2138.17 194.381 Q2141.11 192.158 2146.92 192.158 L2152.9 192.158 L2152.9 191.742 Q2152.9 188.802 2150.95 187.205 Q2149.03 185.584 2145.53 185.584 Q2143.31 185.584 2141.21 186.117 Q2139.1 186.649 2137.15 187.714 L2137.15 183.779 Q2139.49 182.876 2141.69 182.436 Q2143.89 181.973 2145.97 181.973 Q2151.6 181.973 2154.38 184.89 Q2157.15 187.807 2157.15 193.733 Z\" fill=\"#000000\" fill-rule=\"evenodd\" fill-opacity=\"1\" /><path clip-path=\"url(#clip280)\" d=\"M 0 0 M2161.62 182.598 L2165.88 182.598 L2165.88 208.524 L2161.62 208.524 L2161.62 182.598 M2161.62 172.506 L2165.88 172.506 L2165.88 177.899 L2161.62 177.899 L2161.62 172.506 Z\" fill=\"#000000\" fill-rule=\"evenodd\" fill-opacity=\"1\" /><path clip-path=\"url(#clip280)\" d=\"M 0 0 M2191.9 192.876 L2191.9 208.524 L2187.64 208.524 L2187.64 193.015 Q2187.64 189.334 2186.21 187.506 Q2184.77 185.677 2181.9 185.677 Q2178.45 185.677 2176.46 187.876 Q2174.47 190.075 2174.47 193.871 L2174.47 208.524 L2170.19 208.524 L2170.19 182.598 L2174.47 182.598 L2174.47 186.626 Q2176 184.288 2178.06 183.131 Q2180.14 181.973 2182.85 181.973 Q2187.32 181.973 2189.61 184.751 Q2191.9 187.506 2191.9 192.876 Z\" fill=\"#000000\" fill-rule=\"evenodd\" fill-opacity=\"1\" /><path clip-path=\"url(#clip280)\" d=\"M 0 0 M2212.85 204.589 L2220.49 204.589 L2220.49 178.223 L2212.18 179.89 L2212.18 175.631 L2220.44 173.964 L2225.12 173.964 L2225.12 204.589 L2232.76 204.589 L2232.76 208.524 L2212.85 208.524 L2212.85 204.589 Z\" fill=\"#000000\" fill-rule=\"evenodd\" fill-opacity=\"1\" /></svg>\n"
      ]
     },
     "execution_count": 9,
     "metadata": {},
     "output_type": "execute_result"
    }
   ],
   "source": [
    "# Extract the number of clusters for each sample of the Markov chain.\n",
    "k = map(t -> length(unique(chain[:z].value[t,:,:])), 1:iterations);\n",
    "\n",
    "# Visualize the number of clusters.\n",
    "plot(k, xlabel = \"Iteration\", ylabel = \"Number of clusters\", label = \"Chain 1\")"
   ]
  },
  {
   "cell_type": "markdown",
   "metadata": {},
   "source": [
    "If we visualize the histogram of the number of clusters sampled from our posterior, we observe that the model seems to prefer 3 clusters, which is the true number of clusters. Note that the number of clusters in a Dirichlet process mixture model is not limited a priori and will grow to infinity with probability one. However, if conditioned on data the posterior will concentrate on a finite number of clusters enforcing the resulting model to have a finite amount of clusters. It is, however, not given that the posterior of a Dirichlet process Gaussian mixture model converges to the true number of clusters, given that data comes from a finite mixture model. See Jeffrey Miller and Matthew Harrison: [A simple example of Dirichlet process mixture inconsitency for the number of components](https://arxiv.org/pdf/1301.2708.pdf) for details."
   ]
  },
  {
   "cell_type": "code",
   "execution_count": 10,
   "metadata": {},
   "outputs": [
    {
     "data": {
      "image/svg+xml": [
       "<?xml version=\"1.0\" encoding=\"utf-8\"?>\n",
       "<svg xmlns=\"http://www.w3.org/2000/svg\" xmlns:xlink=\"http://www.w3.org/1999/xlink\" width=\"600\" height=\"400\" viewBox=\"0 0 2400 1600\">\n",
       "<defs>\n",
       "  <clipPath id=\"clip320\">\n",
       "    <rect x=\"0\" y=\"0\" width=\"2400\" height=\"1600\"/>\n",
       "  </clipPath>\n",
       "</defs>\n",
       "<path clip-path=\"url(#clip320)\" d=\"\n",
       "M0 1600 L2400 1600 L2400 0 L0 0  Z\n",
       "  \" fill=\"#ffffff\" fill-rule=\"evenodd\" fill-opacity=\"1\"/>\n",
       "<defs>\n",
       "  <clipPath id=\"clip321\">\n",
       "    <rect x=\"480\" y=\"0\" width=\"1681\" height=\"1600\"/>\n",
       "  </clipPath>\n",
       "</defs>\n",
       "<path clip-path=\"url(#clip320)\" d=\"\n",
       "M162.964 1423.18 L2352.76 1423.18 L2352.76 47.2441 L162.964 47.2441  Z\n",
       "  \" fill=\"#ffffff\" fill-rule=\"evenodd\" fill-opacity=\"1\"/>\n",
       "<defs>\n",
       "  <clipPath id=\"clip322\">\n",
       "    <rect x=\"162\" y=\"47\" width=\"2191\" height=\"1377\"/>\n",
       "  </clipPath>\n",
       "</defs>\n",
       "<polyline clip-path=\"url(#clip322)\" style=\"stroke:#000000; stroke-width:2; stroke-opacity:0.1; fill:none\" points=\"\n",
       "  543.261,1423.18 543.261,47.2441 \n",
       "  \"/>\n",
       "<polyline clip-path=\"url(#clip322)\" style=\"stroke:#000000; stroke-width:2; stroke-opacity:0.1; fill:none\" points=\"\n",
       "  1062.97,1423.18 1062.97,47.2441 \n",
       "  \"/>\n",
       "<polyline clip-path=\"url(#clip322)\" style=\"stroke:#000000; stroke-width:2; stroke-opacity:0.1; fill:none\" points=\"\n",
       "  1582.68,1423.18 1582.68,47.2441 \n",
       "  \"/>\n",
       "<polyline clip-path=\"url(#clip322)\" style=\"stroke:#000000; stroke-width:2; stroke-opacity:0.1; fill:none\" points=\"\n",
       "  2102.39,1423.18 2102.39,47.2441 \n",
       "  \"/>\n",
       "<polyline clip-path=\"url(#clip322)\" style=\"stroke:#000000; stroke-width:2; stroke-opacity:0.1; fill:none\" points=\"\n",
       "  162.964,1384.24 2352.76,1384.24 \n",
       "  \"/>\n",
       "<polyline clip-path=\"url(#clip322)\" style=\"stroke:#000000; stroke-width:2; stroke-opacity:0.1; fill:none\" points=\"\n",
       "  162.964,1126.69 2352.76,1126.69 \n",
       "  \"/>\n",
       "<polyline clip-path=\"url(#clip322)\" style=\"stroke:#000000; stroke-width:2; stroke-opacity:0.1; fill:none\" points=\"\n",
       "  162.964,869.138 2352.76,869.138 \n",
       "  \"/>\n",
       "<polyline clip-path=\"url(#clip322)\" style=\"stroke:#000000; stroke-width:2; stroke-opacity:0.1; fill:none\" points=\"\n",
       "  162.964,611.588 2352.76,611.588 \n",
       "  \"/>\n",
       "<polyline clip-path=\"url(#clip322)\" style=\"stroke:#000000; stroke-width:2; stroke-opacity:0.1; fill:none\" points=\"\n",
       "  162.964,354.038 2352.76,354.038 \n",
       "  \"/>\n",
       "<polyline clip-path=\"url(#clip322)\" style=\"stroke:#000000; stroke-width:2; stroke-opacity:0.1; fill:none\" points=\"\n",
       "  162.964,96.4877 2352.76,96.4877 \n",
       "  \"/>\n",
       "<polyline clip-path=\"url(#clip320)\" style=\"stroke:#000000; stroke-width:4; stroke-opacity:1; fill:none\" points=\"\n",
       "  162.964,1423.18 2352.76,1423.18 \n",
       "  \"/>\n",
       "<polyline clip-path=\"url(#clip320)\" style=\"stroke:#000000; stroke-width:4; stroke-opacity:1; fill:none\" points=\"\n",
       "  162.964,1423.18 162.964,47.2441 \n",
       "  \"/>\n",
       "<polyline clip-path=\"url(#clip320)\" style=\"stroke:#000000; stroke-width:4; stroke-opacity:1; fill:none\" points=\"\n",
       "  543.261,1423.18 543.261,1406.67 \n",
       "  \"/>\n",
       "<polyline clip-path=\"url(#clip320)\" style=\"stroke:#000000; stroke-width:4; stroke-opacity:1; fill:none\" points=\"\n",
       "  1062.97,1423.18 1062.97,1406.67 \n",
       "  \"/>\n",
       "<polyline clip-path=\"url(#clip320)\" style=\"stroke:#000000; stroke-width:4; stroke-opacity:1; fill:none\" points=\"\n",
       "  1582.68,1423.18 1582.68,1406.67 \n",
       "  \"/>\n",
       "<polyline clip-path=\"url(#clip320)\" style=\"stroke:#000000; stroke-width:4; stroke-opacity:1; fill:none\" points=\"\n",
       "  2102.39,1423.18 2102.39,1406.67 \n",
       "  \"/>\n",
       "<polyline clip-path=\"url(#clip320)\" style=\"stroke:#000000; stroke-width:4; stroke-opacity:1; fill:none\" points=\"\n",
       "  162.964,1384.24 189.241,1384.24 \n",
       "  \"/>\n",
       "<polyline clip-path=\"url(#clip320)\" style=\"stroke:#000000; stroke-width:4; stroke-opacity:1; fill:none\" points=\"\n",
       "  162.964,1126.69 189.241,1126.69 \n",
       "  \"/>\n",
       "<polyline clip-path=\"url(#clip320)\" style=\"stroke:#000000; stroke-width:4; stroke-opacity:1; fill:none\" points=\"\n",
       "  162.964,869.138 189.241,869.138 \n",
       "  \"/>\n",
       "<polyline clip-path=\"url(#clip320)\" style=\"stroke:#000000; stroke-width:4; stroke-opacity:1; fill:none\" points=\"\n",
       "  162.964,611.588 189.241,611.588 \n",
       "  \"/>\n",
       "<polyline clip-path=\"url(#clip320)\" style=\"stroke:#000000; stroke-width:4; stroke-opacity:1; fill:none\" points=\"\n",
       "  162.964,354.038 189.241,354.038 \n",
       "  \"/>\n",
       "<polyline clip-path=\"url(#clip320)\" style=\"stroke:#000000; stroke-width:4; stroke-opacity:1; fill:none\" points=\"\n",
       "  162.964,96.4877 189.241,96.4877 \n",
       "  \"/>\n",
       "<path clip-path=\"url(#clip320)\" d=\"M 0 0 M537.913 1472.72 L554.233 1472.72 L554.233 1476.65 L532.289 1476.65 L532.289 1472.72 Q534.951 1469.96 539.534 1465.33 Q544.14 1460.68 545.321 1459.34 Q547.566 1456.81 548.446 1455.08 Q549.349 1453.32 549.349 1451.63 Q549.349 1448.87 547.404 1447.14 Q545.483 1445.4 542.381 1445.4 Q540.182 1445.4 537.728 1446.17 Q535.298 1446.93 532.52 1448.48 L532.52 1443.76 Q535.344 1442.62 537.798 1442.05 Q540.251 1441.47 542.288 1441.47 Q547.659 1441.47 550.853 1444.15 Q554.048 1446.84 554.048 1451.33 Q554.048 1453.46 553.237 1455.38 Q552.45 1457.28 550.344 1459.87 Q549.765 1460.54 546.663 1463.76 Q543.562 1466.95 537.913 1472.72 Z\" fill=\"#000000\" fill-rule=\"evenodd\" fill-opacity=\"1\" /><path clip-path=\"url(#clip320)\" d=\"M 0 0 M1065.98 1446.17 L1054.17 1464.61 L1065.98 1464.61 L1065.98 1446.17 M1064.75 1442.09 L1070.63 1442.09 L1070.63 1464.61 L1075.56 1464.61 L1075.56 1468.5 L1070.63 1468.5 L1070.63 1476.65 L1065.98 1476.65 L1065.98 1468.5 L1050.38 1468.5 L1050.38 1463.99 L1064.75 1442.09 Z\" fill=\"#000000\" fill-rule=\"evenodd\" fill-opacity=\"1\" /><path clip-path=\"url(#clip320)\" d=\"M 0 0 M1583.08 1457.51 Q1579.93 1457.51 1578.08 1459.66 Q1576.25 1461.81 1576.25 1465.56 Q1576.25 1469.29 1578.08 1471.47 Q1579.93 1473.62 1583.08 1473.62 Q1586.23 1473.62 1588.06 1471.47 Q1589.91 1469.29 1589.91 1465.56 Q1589.91 1461.81 1588.06 1459.66 Q1586.23 1457.51 1583.08 1457.51 M1592.37 1442.86 L1592.37 1447.11 Q1590.61 1446.28 1588.8 1445.84 Q1587.02 1445.4 1585.26 1445.4 Q1580.63 1445.4 1578.18 1448.53 Q1575.74 1451.65 1575.4 1457.97 Q1576.76 1455.96 1578.82 1454.89 Q1580.88 1453.8 1583.36 1453.8 Q1588.57 1453.8 1591.58 1456.98 Q1594.61 1460.12 1594.61 1465.56 Q1594.61 1470.89 1591.46 1474.11 Q1588.31 1477.32 1583.08 1477.32 Q1577.09 1477.32 1573.92 1472.74 Q1570.74 1468.13 1570.74 1459.41 Q1570.74 1451.21 1574.63 1446.35 Q1578.52 1441.47 1585.07 1441.47 Q1586.83 1441.47 1588.62 1441.81 Q1590.42 1442.16 1592.37 1442.86 Z\" fill=\"#000000\" fill-rule=\"evenodd\" fill-opacity=\"1\" /><path clip-path=\"url(#clip320)\" d=\"M 0 0 M2102.39 1460.24 Q2099.05 1460.24 2097.13 1462.02 Q2095.23 1463.8 2095.23 1466.93 Q2095.23 1470.05 2097.13 1471.84 Q2099.05 1473.62 2102.39 1473.62 Q2105.72 1473.62 2107.64 1471.84 Q2109.56 1470.03 2109.56 1466.93 Q2109.56 1463.8 2107.64 1462.02 Q2105.74 1460.24 2102.39 1460.24 M2097.71 1458.25 Q2094.7 1457.51 2093.01 1455.45 Q2091.34 1453.39 2091.34 1450.43 Q2091.34 1446.28 2094.28 1443.87 Q2097.25 1441.47 2102.39 1441.47 Q2107.55 1441.47 2110.49 1443.87 Q2113.43 1446.28 2113.43 1450.43 Q2113.43 1453.39 2111.74 1455.45 Q2110.07 1457.51 2107.09 1458.25 Q2110.46 1459.04 2112.34 1461.33 Q2114.24 1463.62 2114.24 1466.93 Q2114.24 1471.95 2111.16 1474.64 Q2108.1 1477.32 2102.39 1477.32 Q2096.67 1477.32 2093.59 1474.64 Q2090.53 1471.95 2090.53 1466.93 Q2090.53 1463.62 2092.43 1461.33 Q2094.33 1459.04 2097.71 1458.25 M2096 1450.86 Q2096 1453.55 2097.66 1455.05 Q2099.35 1456.56 2102.39 1456.56 Q2105.4 1456.56 2107.09 1455.05 Q2108.8 1453.55 2108.8 1450.86 Q2108.8 1448.18 2107.09 1446.68 Q2105.4 1445.17 2102.39 1445.17 Q2099.35 1445.17 2097.66 1446.68 Q2096 1448.18 2096 1450.86 Z\" fill=\"#000000\" fill-rule=\"evenodd\" fill-opacity=\"1\" /><path clip-path=\"url(#clip320)\" d=\"M 0 0 M127.02 1370.04 Q123.408 1370.04 121.58 1373.6 Q119.774 1377.14 119.774 1384.27 Q119.774 1391.38 121.58 1394.94 Q123.408 1398.49 127.02 1398.49 Q130.654 1398.49 132.459 1394.94 Q134.288 1391.38 134.288 1384.27 Q134.288 1377.14 132.459 1373.6 Q130.654 1370.04 127.02 1370.04 M127.02 1366.33 Q132.83 1366.33 135.885 1370.94 Q138.964 1375.52 138.964 1384.27 Q138.964 1393 135.885 1397.61 Q132.83 1402.19 127.02 1402.19 Q121.209 1402.19 118.131 1397.61 Q115.075 1393 115.075 1384.27 Q115.075 1375.52 118.131 1370.94 Q121.209 1366.33 127.02 1366.33 Z\" fill=\"#000000\" fill-rule=\"evenodd\" fill-opacity=\"1\" /><path clip-path=\"url(#clip320)\" d=\"M 0 0 M91.0475 1109.41 L109.404 1109.41 L109.404 1113.34 L95.3299 1113.34 L95.3299 1121.82 Q96.3484 1121.47 97.3669 1121.31 Q98.3855 1121.12 99.404 1121.12 Q105.191 1121.12 108.571 1124.29 Q111.95 1127.46 111.95 1132.88 Q111.95 1138.46 108.478 1141.56 Q105.006 1144.64 98.6864 1144.64 Q96.5105 1144.64 94.242 1144.27 Q91.9966 1143.9 89.5892 1143.16 L89.5892 1138.46 Q91.6725 1139.59 93.8947 1140.15 Q96.1169 1140.7 98.5938 1140.7 Q102.598 1140.7 104.936 1138.6 Q107.274 1136.49 107.274 1132.88 Q107.274 1129.27 104.936 1127.16 Q102.598 1125.06 98.5938 1125.06 Q96.7188 1125.06 94.8438 1125.47 Q92.992 1125.89 91.0475 1126.77 L91.0475 1109.41 Z\" fill=\"#000000\" fill-rule=\"evenodd\" fill-opacity=\"1\" /><path clip-path=\"url(#clip320)\" d=\"M 0 0 M127.02 1112.49 Q123.408 1112.49 121.58 1116.05 Q119.774 1119.59 119.774 1126.72 Q119.774 1133.83 121.58 1137.39 Q123.408 1140.94 127.02 1140.94 Q130.654 1140.94 132.459 1137.39 Q134.288 1133.83 134.288 1126.72 Q134.288 1119.59 132.459 1116.05 Q130.654 1112.49 127.02 1112.49 M127.02 1108.78 Q132.83 1108.78 135.885 1113.39 Q138.964 1117.97 138.964 1126.72 Q138.964 1135.45 135.885 1140.06 Q132.83 1144.64 127.02 1144.64 Q121.209 1144.64 118.131 1140.06 Q115.075 1135.45 115.075 1126.72 Q115.075 1117.97 118.131 1113.39 Q121.209 1108.78 127.02 1108.78 Z\" fill=\"#000000\" fill-rule=\"evenodd\" fill-opacity=\"1\" /><path clip-path=\"url(#clip320)\" d=\"M 0 0 M65.0292 882.483 L72.668 882.483 L72.668 856.117 L64.3579 857.784 L64.3579 853.525 L72.6217 851.858 L77.2976 851.858 L77.2976 882.483 L84.9365 882.483 L84.9365 886.418 L65.0292 886.418 L65.0292 882.483 Z\" fill=\"#000000\" fill-rule=\"evenodd\" fill-opacity=\"1\" /><path clip-path=\"url(#clip320)\" d=\"M 0 0 M100.006 854.937 Q96.3947 854.937 94.566 858.502 Q92.7605 862.043 92.7605 869.173 Q92.7605 876.279 94.566 879.844 Q96.3947 883.386 100.006 883.386 Q103.64 883.386 105.446 879.844 Q107.274 876.279 107.274 869.173 Q107.274 862.043 105.446 858.502 Q103.64 854.937 100.006 854.937 M100.006 851.233 Q105.816 851.233 108.872 855.839 Q111.95 860.423 111.95 869.173 Q111.95 877.9 108.872 882.506 Q105.816 887.089 100.006 887.089 Q94.1957 887.089 91.117 882.506 Q88.0614 877.9 88.0614 869.173 Q88.0614 860.423 91.117 855.839 Q94.1957 851.233 100.006 851.233 Z\" fill=\"#000000\" fill-rule=\"evenodd\" fill-opacity=\"1\" /><path clip-path=\"url(#clip320)\" d=\"M 0 0 M127.02 854.937 Q123.408 854.937 121.58 858.502 Q119.774 862.043 119.774 869.173 Q119.774 876.279 121.58 879.844 Q123.408 883.386 127.02 883.386 Q130.654 883.386 132.459 879.844 Q134.288 876.279 134.288 869.173 Q134.288 862.043 132.459 858.502 Q130.654 854.937 127.02 854.937 M127.02 851.233 Q132.83 851.233 135.885 855.839 Q138.964 860.423 138.964 869.173 Q138.964 877.9 135.885 882.506 Q132.83 887.089 127.02 887.089 Q121.209 887.089 118.131 882.506 Q115.075 877.9 115.075 869.173 Q115.075 860.423 118.131 855.839 Q121.209 851.233 127.02 851.233 Z\" fill=\"#000000\" fill-rule=\"evenodd\" fill-opacity=\"1\" /><path clip-path=\"url(#clip320)\" d=\"M 0 0 M66.0245 624.933 L73.6634 624.933 L73.6634 598.567 L65.3532 600.234 L65.3532 595.975 L73.6171 594.308 L78.293 594.308 L78.293 624.933 L85.9318 624.933 L85.9318 628.868 L66.0245 628.868 L66.0245 624.933 Z\" fill=\"#000000\" fill-rule=\"evenodd\" fill-opacity=\"1\" /><path clip-path=\"url(#clip320)\" d=\"M 0 0 M91.0475 594.308 L109.404 594.308 L109.404 598.243 L95.3299 598.243 L95.3299 606.715 Q96.3484 606.368 97.3669 606.206 Q98.3855 606.021 99.404 606.021 Q105.191 606.021 108.571 609.192 Q111.95 612.363 111.95 617.78 Q111.95 623.359 108.478 626.461 Q105.006 629.539 98.6864 629.539 Q96.5105 629.539 94.242 629.169 Q91.9966 628.798 89.5892 628.058 L89.5892 623.359 Q91.6725 624.493 93.8947 625.048 Q96.1169 625.604 98.5938 625.604 Q102.598 625.604 104.936 623.498 Q107.274 621.391 107.274 617.78 Q107.274 614.169 104.936 612.062 Q102.598 609.956 98.5938 609.956 Q96.7188 609.956 94.8438 610.373 Q92.992 610.789 91.0475 611.669 L91.0475 594.308 Z\" fill=\"#000000\" fill-rule=\"evenodd\" fill-opacity=\"1\" /><path clip-path=\"url(#clip320)\" d=\"M 0 0 M127.02 597.387 Q123.408 597.387 121.58 600.951 Q119.774 604.493 119.774 611.623 Q119.774 618.729 121.58 622.294 Q123.408 625.836 127.02 625.836 Q130.654 625.836 132.459 622.294 Q134.288 618.729 134.288 611.623 Q134.288 604.493 132.459 600.951 Q130.654 597.387 127.02 597.387 M127.02 593.683 Q132.83 593.683 135.885 598.289 Q138.964 602.873 138.964 611.623 Q138.964 620.349 135.885 624.956 Q132.83 629.539 127.02 629.539 Q121.209 629.539 118.131 624.956 Q115.075 620.349 115.075 611.623 Q115.075 602.873 118.131 598.289 Q121.209 593.683 127.02 593.683 Z\" fill=\"#000000\" fill-rule=\"evenodd\" fill-opacity=\"1\" /><path clip-path=\"url(#clip320)\" d=\"M 0 0 M68.6171 367.383 L84.9365 367.383 L84.9365 371.318 L62.9921 371.318 L62.9921 367.383 Q65.6541 364.628 70.2375 359.998 Q74.8439 355.346 76.0245 354.003 Q78.2698 351.48 79.1494 349.744 Q80.0522 347.985 80.0522 346.295 Q80.0522 343.54 78.1078 341.804 Q76.1865 340.068 73.0847 340.068 Q70.8856 340.068 68.4319 340.832 Q66.0014 341.596 63.2236 343.147 L63.2236 338.424 Q66.0477 337.29 68.5014 336.711 Q70.955 336.133 72.9921 336.133 Q78.3624 336.133 81.5568 338.818 Q84.7513 341.503 84.7513 345.994 Q84.7513 348.123 83.9411 350.045 Q83.1541 351.943 81.0476 354.535 Q80.4689 355.207 77.367 358.424 Q74.2652 361.619 68.6171 367.383 Z\" fill=\"#000000\" fill-rule=\"evenodd\" fill-opacity=\"1\" /><path clip-path=\"url(#clip320)\" d=\"M 0 0 M100.006 339.836 Q96.3947 339.836 94.566 343.401 Q92.7605 346.943 92.7605 354.073 Q92.7605 361.179 94.566 364.744 Q96.3947 368.285 100.006 368.285 Q103.64 368.285 105.446 364.744 Q107.274 361.179 107.274 354.073 Q107.274 346.943 105.446 343.401 Q103.64 339.836 100.006 339.836 M100.006 336.133 Q105.816 336.133 108.872 340.739 Q111.95 345.323 111.95 354.073 Q111.95 362.799 108.872 367.406 Q105.816 371.989 100.006 371.989 Q94.1957 371.989 91.117 367.406 Q88.0614 362.799 88.0614 354.073 Q88.0614 345.323 91.117 340.739 Q94.1957 336.133 100.006 336.133 Z\" fill=\"#000000\" fill-rule=\"evenodd\" fill-opacity=\"1\" /><path clip-path=\"url(#clip320)\" d=\"M 0 0 M127.02 339.836 Q123.408 339.836 121.58 343.401 Q119.774 346.943 119.774 354.073 Q119.774 361.179 121.58 364.744 Q123.408 368.285 127.02 368.285 Q130.654 368.285 132.459 364.744 Q134.288 361.179 134.288 354.073 Q134.288 346.943 132.459 343.401 Q130.654 339.836 127.02 339.836 M127.02 336.133 Q132.83 336.133 135.885 340.739 Q138.964 345.323 138.964 354.073 Q138.964 362.799 135.885 367.406 Q132.83 371.989 127.02 371.989 Q121.209 371.989 118.131 367.406 Q115.075 362.799 115.075 354.073 Q115.075 345.323 118.131 340.739 Q121.209 336.133 127.02 336.133 Z\" fill=\"#000000\" fill-rule=\"evenodd\" fill-opacity=\"1\" /><path clip-path=\"url(#clip320)\" d=\"M 0 0 M69.6125 109.833 L85.9318 109.833 L85.9318 113.768 L63.9875 113.768 L63.9875 109.833 Q66.6495 107.078 71.2328 102.448 Q75.8393 97.7955 77.0198 96.453 Q79.2652 93.9298 80.1448 92.1937 Q81.0476 90.4345 81.0476 88.7447 Q81.0476 85.99 79.1032 84.2539 Q77.1819 82.5178 74.08 82.5178 Q71.881 82.5178 69.4273 83.2817 Q66.9967 84.0456 64.219 85.5965 L64.219 80.8743 Q67.043 79.7401 69.4967 79.1614 Q71.9504 78.5827 73.9874 78.5827 Q79.3578 78.5827 82.5522 81.2679 Q85.7466 83.953 85.7466 88.4437 Q85.7466 90.5734 84.9365 92.4946 Q84.1494 94.3928 82.0429 96.9854 Q81.4642 97.6567 78.3624 100.874 Q75.2606 104.069 69.6125 109.833 Z\" fill=\"#000000\" fill-rule=\"evenodd\" fill-opacity=\"1\" /><path clip-path=\"url(#clip320)\" d=\"M 0 0 M91.0475 79.2077 L109.404 79.2077 L109.404 83.1428 L95.3299 83.1428 L95.3299 91.615 Q96.3484 91.2678 97.3669 91.1058 Q98.3855 90.9206 99.404 90.9206 Q105.191 90.9206 108.571 94.0919 Q111.95 97.2631 111.95 102.68 Q111.95 108.258 108.478 111.36 Q105.006 114.439 98.6864 114.439 Q96.5105 114.439 94.242 114.069 Q91.9966 113.698 89.5892 112.957 L89.5892 108.258 Q91.6725 109.393 93.8947 109.948 Q96.1169 110.504 98.5938 110.504 Q102.598 110.504 104.936 108.397 Q107.274 106.291 107.274 102.68 Q107.274 99.0687 104.936 96.9622 Q102.598 94.8557 98.5938 94.8557 Q96.7188 94.8557 94.8438 95.2724 Q92.992 95.6891 91.0475 96.5687 L91.0475 79.2077 Z\" fill=\"#000000\" fill-rule=\"evenodd\" fill-opacity=\"1\" /><path clip-path=\"url(#clip320)\" d=\"M 0 0 M127.02 82.2864 Q123.408 82.2864 121.58 85.8512 Q119.774 89.3928 119.774 96.5224 Q119.774 103.629 121.58 107.194 Q123.408 110.735 127.02 110.735 Q130.654 110.735 132.459 107.194 Q134.288 103.629 134.288 96.5224 Q134.288 89.3928 132.459 85.8512 Q130.654 82.2864 127.02 82.2864 M127.02 78.5827 Q132.83 78.5827 135.885 83.1891 Q138.964 87.7724 138.964 96.5224 Q138.964 105.249 135.885 109.856 Q132.83 114.439 127.02 114.439 Q121.209 114.439 118.131 109.856 Q115.075 105.249 115.075 96.5224 Q115.075 87.7724 118.131 83.1891 Q121.209 78.5827 127.02 78.5827 Z\" fill=\"#000000\" fill-rule=\"evenodd\" fill-opacity=\"1\" /><path clip-path=\"url(#clip320)\" d=\"M 0 0 M977.514 1508.52 L986.172 1508.52 L1007.24 1548.28 L1007.24 1508.52 L1013.48 1508.52 L1013.48 1556.04 L1004.82 1556.04 L983.753 1516.29 L983.753 1556.04 L977.514 1556.04 L977.514 1508.52 Z\" fill=\"#000000\" fill-rule=\"evenodd\" fill-opacity=\"1\" /><path clip-path=\"url(#clip320)\" d=\"M 0 0 M1019.02 1541.98 L1019.02 1520.4 L1024.88 1520.4 L1024.88 1541.75 Q1024.88 1546.81 1026.85 1549.36 Q1028.82 1551.87 1032.77 1551.87 Q1037.51 1551.87 1040.25 1548.85 Q1043.02 1545.83 1043.02 1540.61 L1043.02 1520.4 L1048.87 1520.4 L1048.87 1556.04 L1043.02 1556.04 L1043.02 1550.57 Q1040.88 1553.82 1038.05 1555.41 Q1035.25 1556.97 1031.53 1556.97 Q1025.38 1556.97 1022.2 1553.15 Q1019.02 1549.33 1019.02 1541.98 M1033.76 1519.54 L1033.76 1519.54 Z\" fill=\"#000000\" fill-rule=\"evenodd\" fill-opacity=\"1\" /><path clip-path=\"url(#clip320)\" d=\"M 0 0 M1082.77 1527.24 Q1084.97 1523.29 1088.02 1521.41 Q1091.08 1519.54 1095.22 1519.54 Q1100.79 1519.54 1103.81 1523.45 Q1106.83 1527.33 1106.83 1534.53 L1106.83 1556.04 L1100.95 1556.04 L1100.95 1534.72 Q1100.95 1529.59 1099.13 1527.11 Q1097.32 1524.63 1093.59 1524.63 Q1089.04 1524.63 1086.4 1527.65 Q1083.76 1530.68 1083.76 1535.9 L1083.76 1556.04 L1077.87 1556.04 L1077.87 1534.72 Q1077.87 1529.56 1076.06 1527.11 Q1074.24 1524.63 1070.45 1524.63 Q1065.97 1524.63 1063.32 1527.68 Q1060.68 1530.71 1060.68 1535.9 L1060.68 1556.04 L1054.79 1556.04 L1054.79 1520.4 L1060.68 1520.4 L1060.68 1525.93 Q1062.69 1522.66 1065.49 1521.1 Q1068.29 1519.54 1072.14 1519.54 Q1076.02 1519.54 1078.73 1521.51 Q1081.47 1523.48 1082.77 1527.24 Z\" fill=\"#000000\" fill-rule=\"evenodd\" fill-opacity=\"1\" /><path clip-path=\"url(#clip320)\" d=\"M 0 0 M1138.57 1538.25 Q1138.57 1531.79 1135.89 1528.13 Q1133.25 1524.44 1128.6 1524.44 Q1123.96 1524.44 1121.28 1528.13 Q1118.64 1531.79 1118.64 1538.25 Q1118.64 1544.71 1121.28 1548.4 Q1123.96 1552.07 1128.6 1552.07 Q1133.25 1552.07 1135.89 1548.4 Q1138.57 1544.71 1138.57 1538.25 M1118.64 1525.81 Q1120.49 1522.62 1123.29 1521.1 Q1126.12 1519.54 1130.04 1519.54 Q1136.53 1519.54 1140.57 1524.69 Q1144.65 1529.85 1144.65 1538.25 Q1144.65 1546.65 1140.57 1551.81 Q1136.53 1556.97 1130.04 1556.97 Q1126.12 1556.97 1123.29 1555.44 Q1120.49 1553.88 1118.64 1550.7 L1118.64 1556.04 L1112.75 1556.04 L1112.75 1506.52 L1118.64 1506.52 L1118.64 1525.81 Z\" fill=\"#000000\" fill-rule=\"evenodd\" fill-opacity=\"1\" /><path clip-path=\"url(#clip320)\" d=\"M 0 0 M1181.28 1536.76 L1181.28 1539.62 L1154.35 1539.62 Q1154.74 1545.67 1157.98 1548.85 Q1161.26 1552 1167.08 1552 Q1170.46 1552 1173.61 1551.17 Q1176.79 1550.35 1179.91 1548.69 L1179.91 1554.23 Q1176.76 1555.57 1173.45 1556.27 Q1170.14 1556.97 1166.73 1556.97 Q1158.2 1556.97 1153.21 1552 Q1148.24 1547.04 1148.24 1538.57 Q1148.24 1529.82 1152.95 1524.69 Q1157.7 1519.54 1165.72 1519.54 Q1172.91 1519.54 1177.08 1524.18 Q1181.28 1528.8 1181.28 1536.76 M1175.42 1535.04 Q1175.36 1530.23 1172.72 1527.37 Q1170.11 1524.5 1165.78 1524.5 Q1160.88 1524.5 1157.92 1527.27 Q1154.99 1530.04 1154.54 1535.07 L1175.42 1535.04 Z\" fill=\"#000000\" fill-rule=\"evenodd\" fill-opacity=\"1\" /><path clip-path=\"url(#clip320)\" d=\"M 0 0 M1208.08 1525.87 Q1207.09 1525.3 1205.92 1525.04 Q1204.77 1524.76 1203.37 1524.76 Q1198.4 1524.76 1195.73 1528 Q1193.09 1531.22 1193.09 1537.27 L1193.09 1556.04 L1187.2 1556.04 L1187.2 1520.4 L1193.09 1520.4 L1193.09 1525.93 Q1194.93 1522.69 1197.89 1521.13 Q1200.86 1519.54 1205.09 1519.54 Q1205.69 1519.54 1206.43 1519.63 Q1207.16 1519.7 1208.05 1519.85 L1208.08 1525.87 Z\" fill=\"#000000\" fill-rule=\"evenodd\" fill-opacity=\"1\" /><path clip-path=\"url(#clip320)\" d=\"M 0 0 M1248.76 1524.5 Q1244.05 1524.5 1241.31 1528.19 Q1238.57 1531.85 1238.57 1538.25 Q1238.57 1544.65 1241.28 1548.34 Q1244.01 1552 1248.76 1552 Q1253.44 1552 1256.17 1548.31 Q1258.91 1544.62 1258.91 1538.25 Q1258.91 1531.92 1256.17 1528.23 Q1253.44 1524.5 1248.76 1524.5 M1248.76 1519.54 Q1256.4 1519.54 1260.76 1524.5 Q1265.12 1529.47 1265.12 1538.25 Q1265.12 1547 1260.76 1552 Q1256.4 1556.97 1248.76 1556.97 Q1241.09 1556.97 1236.73 1552 Q1232.4 1547 1232.4 1538.25 Q1232.4 1529.47 1236.73 1524.5 Q1241.09 1519.54 1248.76 1519.54 Z\" fill=\"#000000\" fill-rule=\"evenodd\" fill-opacity=\"1\" /><path clip-path=\"url(#clip320)\" d=\"M 0 0 M1289.31 1506.52 L1289.31 1511.39 L1283.7 1511.39 Q1280.55 1511.39 1279.31 1512.66 Q1278.1 1513.93 1278.1 1517.24 L1278.1 1520.4 L1287.75 1520.4 L1287.75 1524.95 L1278.1 1524.95 L1278.1 1556.04 L1272.21 1556.04 L1272.21 1524.95 L1266.61 1524.95 L1266.61 1520.4 L1272.21 1520.4 L1272.21 1517.91 Q1272.21 1511.96 1274.98 1509.26 Q1277.75 1506.52 1283.77 1506.52 L1289.31 1506.52 Z\" fill=\"#000000\" fill-rule=\"evenodd\" fill-opacity=\"1\" /><path clip-path=\"url(#clip320)\" d=\"M 0 0 M1341.82 1521.76 L1341.82 1527.24 Q1339.34 1525.87 1336.83 1525.2 Q1334.34 1524.5 1331.8 1524.5 Q1326.1 1524.5 1322.95 1528.13 Q1319.8 1531.73 1319.8 1538.25 Q1319.8 1544.78 1322.95 1548.4 Q1326.1 1552 1331.8 1552 Q1334.34 1552 1336.83 1551.33 Q1339.34 1550.63 1341.82 1549.26 L1341.82 1554.68 Q1339.37 1555.82 1336.73 1556.39 Q1334.12 1556.97 1331.16 1556.97 Q1323.11 1556.97 1318.37 1551.91 Q1313.62 1546.85 1313.62 1538.25 Q1313.62 1529.53 1318.4 1524.53 Q1323.2 1519.54 1331.54 1519.54 Q1334.25 1519.54 1336.83 1520.11 Q1339.4 1520.65 1341.82 1521.76 Z\" fill=\"#000000\" fill-rule=\"evenodd\" fill-opacity=\"1\" /><path clip-path=\"url(#clip320)\" d=\"M 0 0 M1347.97 1506.52 L1353.82 1506.52 L1353.82 1556.04 L1347.97 1556.04 L1347.97 1506.52 Z\" fill=\"#000000\" fill-rule=\"evenodd\" fill-opacity=\"1\" /><path clip-path=\"url(#clip320)\" d=\"M 0 0 M1359.36 1541.98 L1359.36 1520.4 L1365.22 1520.4 L1365.22 1541.75 Q1365.22 1546.81 1367.19 1549.36 Q1369.16 1551.87 1373.11 1551.87 Q1377.85 1551.87 1380.59 1548.85 Q1383.36 1545.83 1383.36 1540.61 L1383.36 1520.4 L1389.22 1520.4 L1389.22 1556.04 L1383.36 1556.04 L1383.36 1550.57 Q1381.23 1553.82 1378.39 1555.41 Q1375.59 1556.97 1371.87 1556.97 Q1365.73 1556.97 1362.54 1553.15 Q1359.36 1549.33 1359.36 1541.98 M1374.1 1519.54 L1374.1 1519.54 Z\" fill=\"#000000\" fill-rule=\"evenodd\" fill-opacity=\"1\" /><path clip-path=\"url(#clip320)\" d=\"M 0 0 M1418.08 1521.45 L1418.08 1526.98 Q1415.6 1525.71 1412.93 1525.07 Q1410.25 1524.44 1407.39 1524.44 Q1403.03 1524.44 1400.83 1525.77 Q1398.67 1527.11 1398.67 1529.79 Q1398.67 1531.82 1400.23 1533 Q1401.79 1534.15 1406.5 1535.2 L1408.5 1535.64 Q1414.74 1536.98 1417.35 1539.43 Q1419.99 1541.85 1419.99 1546.21 Q1419.99 1551.17 1416.05 1554.07 Q1412.13 1556.97 1405.26 1556.97 Q1402.39 1556.97 1399.27 1556.39 Q1396.19 1555.85 1392.75 1554.74 L1392.75 1548.69 Q1396 1550.38 1399.15 1551.24 Q1402.3 1552.07 1405.39 1552.07 Q1409.52 1552.07 1411.75 1550.66 Q1413.98 1549.23 1413.98 1546.65 Q1413.98 1544.27 1412.36 1542.99 Q1410.76 1541.72 1405.32 1540.54 L1403.28 1540.07 Q1397.84 1538.92 1395.42 1536.56 Q1393 1534.18 1393 1530.04 Q1393 1525.01 1396.57 1522.27 Q1400.13 1519.54 1406.69 1519.54 Q1409.94 1519.54 1412.8 1520.01 Q1415.67 1520.49 1418.08 1521.45 Z\" fill=\"#000000\" fill-rule=\"evenodd\" fill-opacity=\"1\" /><path clip-path=\"url(#clip320)\" d=\"M 0 0 M1431.93 1510.27 L1431.93 1520.4 L1443.99 1520.4 L1443.99 1524.95 L1431.93 1524.95 L1431.93 1544.3 Q1431.93 1548.66 1433.11 1549.9 Q1434.32 1551.14 1437.98 1551.14 L1443.99 1551.14 L1443.99 1556.04 L1437.98 1556.04 Q1431.2 1556.04 1428.62 1553.53 Q1426.04 1550.98 1426.04 1544.3 L1426.04 1524.95 L1421.75 1524.95 L1421.75 1520.4 L1426.04 1520.4 L1426.04 1510.27 L1431.93 1510.27 Z\" fill=\"#000000\" fill-rule=\"evenodd\" fill-opacity=\"1\" /><path clip-path=\"url(#clip320)\" d=\"M 0 0 M1480.63 1536.76 L1480.63 1539.62 L1453.7 1539.62 Q1454.08 1545.67 1457.33 1548.85 Q1460.61 1552 1466.43 1552 Q1469.81 1552 1472.96 1551.17 Q1476.14 1550.35 1479.26 1548.69 L1479.26 1554.23 Q1476.11 1555.57 1472.8 1556.27 Q1469.49 1556.97 1466.08 1556.97 Q1457.55 1556.97 1452.56 1552 Q1447.59 1547.04 1447.59 1538.57 Q1447.59 1529.82 1452.3 1524.69 Q1457.04 1519.54 1465.06 1519.54 Q1472.26 1519.54 1476.43 1524.18 Q1480.63 1528.8 1480.63 1536.76 M1474.77 1535.04 Q1474.71 1530.23 1472.07 1527.37 Q1469.46 1524.5 1465.13 1524.5 Q1460.23 1524.5 1457.27 1527.27 Q1454.34 1530.04 1453.89 1535.07 L1474.77 1535.04 Z\" fill=\"#000000\" fill-rule=\"evenodd\" fill-opacity=\"1\" /><path clip-path=\"url(#clip320)\" d=\"M 0 0 M1507.43 1525.87 Q1506.44 1525.3 1505.26 1525.04 Q1504.12 1524.76 1502.72 1524.76 Q1497.75 1524.76 1495.08 1528 Q1492.44 1531.22 1492.44 1537.27 L1492.44 1556.04 L1486.55 1556.04 L1486.55 1520.4 L1492.44 1520.4 L1492.44 1525.93 Q1494.28 1522.69 1497.24 1521.13 Q1500.2 1519.54 1504.44 1519.54 Q1505.04 1519.54 1505.77 1519.63 Q1506.5 1519.7 1507.4 1519.85 L1507.43 1525.87 Z\" fill=\"#000000\" fill-rule=\"evenodd\" fill-opacity=\"1\" /><path clip-path=\"url(#clip320)\" d=\"M 0 0 M1536.3 1521.45 L1536.3 1526.98 Q1533.81 1525.71 1531.14 1525.07 Q1528.47 1524.44 1525.6 1524.44 Q1521.24 1524.44 1519.04 1525.77 Q1516.88 1527.11 1516.88 1529.79 Q1516.88 1531.82 1518.44 1533 Q1520 1534.15 1524.71 1535.2 L1526.72 1535.64 Q1532.95 1536.98 1535.56 1539.43 Q1538.21 1541.85 1538.21 1546.21 Q1538.21 1551.17 1534.26 1554.07 Q1530.34 1556.97 1523.47 1556.97 Q1520.6 1556.97 1517.49 1556.39 Q1514.4 1555.85 1510.96 1554.74 L1510.96 1548.69 Q1514.21 1550.38 1517.36 1551.24 Q1520.51 1552.07 1523.6 1552.07 Q1527.73 1552.07 1529.96 1550.66 Q1532.19 1549.23 1532.19 1546.65 Q1532.19 1544.27 1530.57 1542.99 Q1528.98 1541.72 1523.53 1540.54 L1521.5 1540.07 Q1516.05 1538.92 1513.63 1536.56 Q1511.22 1534.18 1511.22 1530.04 Q1511.22 1525.01 1514.78 1522.27 Q1518.34 1519.54 1524.9 1519.54 Q1528.15 1519.54 1531.01 1520.01 Q1533.88 1520.49 1536.3 1521.45 Z\" fill=\"#000000\" fill-rule=\"evenodd\" fill-opacity=\"1\" /><path clip-path=\"url(#clip322)\" d=\"\n",
       "M283.406 1131.84 L283.406 1384.24 L413.334 1384.24 L413.334 1131.84 L283.406 1131.84 L283.406 1131.84  Z\n",
       "  \" fill=\"#009af9\" fill-rule=\"evenodd\" fill-opacity=\"1\"/>\n",
       "<polyline clip-path=\"url(#clip322)\" style=\"stroke:#000000; stroke-width:4; stroke-opacity:1; fill:none\" points=\"\n",
       "  283.406,1131.84 283.406,1384.24 413.334,1384.24 413.334,1131.84 283.406,1131.84 \n",
       "  \"/>\n",
       "<path clip-path=\"url(#clip322)\" d=\"\n",
       "M413.334 1384.24 L413.334 1384.24 L543.261 1384.24 L543.261 1384.24 L413.334 1384.24 L413.334 1384.24  Z\n",
       "  \" fill=\"#009af9\" fill-rule=\"evenodd\" fill-opacity=\"1\"/>\n",
       "<polyline clip-path=\"url(#clip322)\" style=\"stroke:#000000; stroke-width:4; stroke-opacity:1; fill:none\" points=\"\n",
       "  413.334,1384.24 413.334,1384.24 543.261,1384.24 413.334,1384.24 \n",
       "  \"/>\n",
       "<path clip-path=\"url(#clip322)\" d=\"\n",
       "M543.261 261.32 L543.261 1384.24 L673.188 1384.24 L673.188 261.32 L543.261 261.32 L543.261 261.32  Z\n",
       "  \" fill=\"#009af9\" fill-rule=\"evenodd\" fill-opacity=\"1\"/>\n",
       "<polyline clip-path=\"url(#clip322)\" style=\"stroke:#000000; stroke-width:4; stroke-opacity:1; fill:none\" points=\"\n",
       "  543.261,261.32 543.261,1384.24 673.188,1384.24 673.188,261.32 543.261,261.32 \n",
       "  \"/>\n",
       "<path clip-path=\"url(#clip322)\" d=\"\n",
       "M673.188 1384.24 L673.188 1384.24 L803.115 1384.24 L803.115 1384.24 L673.188 1384.24 L673.188 1384.24  Z\n",
       "  \" fill=\"#009af9\" fill-rule=\"evenodd\" fill-opacity=\"1\"/>\n",
       "<polyline clip-path=\"url(#clip322)\" style=\"stroke:#000000; stroke-width:4; stroke-opacity:1; fill:none\" points=\"\n",
       "  673.188,1384.24 673.188,1384.24 803.115,1384.24 673.188,1384.24 \n",
       "  \"/>\n",
       "<path clip-path=\"url(#clip322)\" d=\"\n",
       "M803.115 91.3367 L803.115 1384.24 L933.042 1384.24 L933.042 91.3367 L803.115 91.3367 L803.115 91.3367  Z\n",
       "  \" fill=\"#009af9\" fill-rule=\"evenodd\" fill-opacity=\"1\"/>\n",
       "<polyline clip-path=\"url(#clip322)\" style=\"stroke:#000000; stroke-width:4; stroke-opacity:1; fill:none\" points=\"\n",
       "  803.115,91.3367 803.115,1384.24 933.042,1384.24 933.042,91.3367 803.115,91.3367 \n",
       "  \"/>\n",
       "<path clip-path=\"url(#clip322)\" d=\"\n",
       "M933.042 1384.24 L933.042 1384.24 L1062.97 1384.24 L1062.97 1384.24 L933.042 1384.24 L933.042 1384.24  Z\n",
       "  \" fill=\"#009af9\" fill-rule=\"evenodd\" fill-opacity=\"1\"/>\n",
       "<polyline clip-path=\"url(#clip322)\" style=\"stroke:#000000; stroke-width:4; stroke-opacity:1; fill:none\" points=\"\n",
       "  933.042,1384.24 933.042,1384.24 1062.97,1384.24 933.042,1384.24 \n",
       "  \"/>\n",
       "<path clip-path=\"url(#clip322)\" d=\"\n",
       "M1062.97 86.1857 L1062.97 1384.24 L1192.9 1384.24 L1192.9 86.1857 L1062.97 86.1857 L1062.97 86.1857  Z\n",
       "  \" fill=\"#009af9\" fill-rule=\"evenodd\" fill-opacity=\"1\"/>\n",
       "<polyline clip-path=\"url(#clip322)\" style=\"stroke:#000000; stroke-width:4; stroke-opacity:1; fill:none\" points=\"\n",
       "  1062.97,86.1857 1062.97,1384.24 1192.9,1384.24 1192.9,86.1857 1062.97,86.1857 \n",
       "  \"/>\n",
       "<path clip-path=\"url(#clip322)\" d=\"\n",
       "M1192.9 1384.24 L1192.9 1384.24 L1322.82 1384.24 L1322.82 1384.24 L1192.9 1384.24 L1192.9 1384.24  Z\n",
       "  \" fill=\"#009af9\" fill-rule=\"evenodd\" fill-opacity=\"1\"/>\n",
       "<polyline clip-path=\"url(#clip322)\" style=\"stroke:#000000; stroke-width:4; stroke-opacity:1; fill:none\" points=\"\n",
       "  1192.9,1384.24 1192.9,1384.24 1322.82,1384.24 1192.9,1384.24 \n",
       "  \"/>\n",
       "<path clip-path=\"url(#clip322)\" d=\"\n",
       "M1322.82 678.551 L1322.82 1384.24 L1452.75 1384.24 L1452.75 678.551 L1322.82 678.551 L1322.82 678.551  Z\n",
       "  \" fill=\"#009af9\" fill-rule=\"evenodd\" fill-opacity=\"1\"/>\n",
       "<polyline clip-path=\"url(#clip322)\" style=\"stroke:#000000; stroke-width:4; stroke-opacity:1; fill:none\" points=\"\n",
       "  1322.82,678.551 1322.82,1384.24 1452.75,1384.24 1452.75,678.551 1322.82,678.551 \n",
       "  \"/>\n",
       "<path clip-path=\"url(#clip322)\" d=\"\n",
       "M1452.75 1384.24 L1452.75 1384.24 L1582.68 1384.24 L1582.68 1384.24 L1452.75 1384.24 L1452.75 1384.24  Z\n",
       "  \" fill=\"#009af9\" fill-rule=\"evenodd\" fill-opacity=\"1\"/>\n",
       "<polyline clip-path=\"url(#clip322)\" style=\"stroke:#000000; stroke-width:4; stroke-opacity:1; fill:none\" points=\"\n",
       "  1452.75,1384.24 1452.75,1384.24 1582.68,1384.24 1452.75,1384.24 \n",
       "  \"/>\n",
       "<path clip-path=\"url(#clip322)\" d=\"\n",
       "M1582.68 997.913 L1582.68 1384.24 L1712.6 1384.24 L1712.6 997.913 L1582.68 997.913 L1582.68 997.913  Z\n",
       "  \" fill=\"#009af9\" fill-rule=\"evenodd\" fill-opacity=\"1\"/>\n",
       "<polyline clip-path=\"url(#clip322)\" style=\"stroke:#000000; stroke-width:4; stroke-opacity:1; fill:none\" points=\"\n",
       "  1582.68,997.913 1582.68,1384.24 1712.6,1384.24 1712.6,997.913 1582.68,997.913 \n",
       "  \"/>\n",
       "<path clip-path=\"url(#clip322)\" d=\"\n",
       "M1712.6 1384.24 L1712.6 1384.24 L1842.53 1384.24 L1842.53 1384.24 L1712.6 1384.24 L1712.6 1384.24  Z\n",
       "  \" fill=\"#009af9\" fill-rule=\"evenodd\" fill-opacity=\"1\"/>\n",
       "<polyline clip-path=\"url(#clip322)\" style=\"stroke:#000000; stroke-width:4; stroke-opacity:1; fill:none\" points=\"\n",
       "  1712.6,1384.24 1712.6,1384.24 1842.53,1384.24 1712.6,1384.24 \n",
       "  \"/>\n",
       "<path clip-path=\"url(#clip322)\" d=\"\n",
       "M1842.53 1296.67 L1842.53 1384.24 L1972.46 1384.24 L1972.46 1296.67 L1842.53 1296.67 L1842.53 1296.67  Z\n",
       "  \" fill=\"#009af9\" fill-rule=\"evenodd\" fill-opacity=\"1\"/>\n",
       "<polyline clip-path=\"url(#clip322)\" style=\"stroke:#000000; stroke-width:4; stroke-opacity:1; fill:none\" points=\"\n",
       "  1842.53,1296.67 1842.53,1384.24 1972.46,1384.24 1972.46,1296.67 1842.53,1296.67 \n",
       "  \"/>\n",
       "<path clip-path=\"url(#clip322)\" d=\"\n",
       "M1972.46 1384.24 L1972.46 1384.24 L2102.39 1384.24 L2102.39 1384.24 L1972.46 1384.24 L1972.46 1384.24  Z\n",
       "  \" fill=\"#009af9\" fill-rule=\"evenodd\" fill-opacity=\"1\"/>\n",
       "<polyline clip-path=\"url(#clip322)\" style=\"stroke:#000000; stroke-width:4; stroke-opacity:1; fill:none\" points=\"\n",
       "  1972.46,1384.24 1972.46,1384.24 2102.39,1384.24 1972.46,1384.24 \n",
       "  \"/>\n",
       "<path clip-path=\"url(#clip322)\" d=\"\n",
       "M2102.39 1379.09 L2102.39 1384.24 L2232.31 1384.24 L2232.31 1379.09 L2102.39 1379.09 L2102.39 1379.09  Z\n",
       "  \" fill=\"#009af9\" fill-rule=\"evenodd\" fill-opacity=\"1\"/>\n",
       "<polyline clip-path=\"url(#clip322)\" style=\"stroke:#000000; stroke-width:4; stroke-opacity:1; fill:none\" points=\"\n",
       "  2102.39,1379.09 2102.39,1384.24 2232.31,1384.24 2232.31,1379.09 2102.39,1379.09 \n",
       "  \"/>\n",
       "</svg>\n"
      ]
     },
     "execution_count": 10,
     "metadata": {},
     "output_type": "execute_result"
    }
   ],
   "source": [
    "histogram(k, xlabel = \"Number of clusters\", legend = false)"
   ]
  },
  {
   "cell_type": "markdown",
   "metadata": {},
   "source": [
    "One issue with the Chinese restaurant process construction is that the number of latent parameters we need to sample scales with the number of observations. It may be desirable to use alternative constructions in certain cases. Alternative methods of constructing a Dirichlet process can be employed via the following representations:\n",
    "\n",
    "Size-Biased Sampling Process\n",
    "\n",
    "$$\n",
    "j_k \\sim Beta(1, \\alpha) * surplus\n",
    "$$\n",
    "\n",
    "Stick-Breaking Process\n",
    "$$\n",
    "v_k \\sim Beta(1, \\alpha)\n",
    "$$\n",
    "\n",
    "Chinese Restaurant Process\n",
    "$$\n",
    "p(z_n = k | z_{1:n-1}) \\propto \\begin{cases} \n",
    "        \\frac{m_k}{n-1+\\alpha}, \\text{ if } m_k > 0\\\\\\\n",
    "        \\frac{\\alpha}{n-1+\\alpha}\n",
    "    \\end{cases}\n",
    "$$\n",
    "\n",
    "For more details see [this article](https://www.stats.ox.ac.uk/~teh/research/npbayes/Teh2010a.pdf)."
   ]
  }
 ],
 "metadata": {
  "kernelspec": {
   "display_name": "Julia 1.4.1",
   "language": "julia",
   "name": "julia-1.4"
  },
  "language_info": {
   "file_extension": ".jl",
   "mimetype": "application/julia",
   "name": "julia",
   "version": "1.4.0"
  },
  "nteract": {
   "version": "0.23.1"
  }
 },
 "nbformat": 4,
 "nbformat_minor": 4
}
